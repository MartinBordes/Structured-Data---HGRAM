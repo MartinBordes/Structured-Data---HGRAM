{
 "cells": [
  {
   "cell_type": "code",
   "execution_count": 46,
   "id": "6b88c4aa-d7c5-4f39-a4d1-6fc96e2b1233",
   "metadata": {},
   "outputs": [],
   "source": [
    "from dgl.data import *\n",
    "import numpy as np\n",
    "import torch\n",
    "import pandas as pd\n",
    "import pickle\n",
    "import argparse\n",
    "from pathlib import Path\n",
    "import re"
   ]
  },
  {
   "cell_type": "code",
   "execution_count": 77,
   "id": "37c49f28-5a87-4a05-87a4-83a66da45d78",
   "metadata": {},
   "outputs": [
    {
     "name": "stdout",
     "output_type": "stream",
     "text": [
      "Done loading data from cached files.\n"
     ]
    }
   ],
   "source": [
    "# We choose the desired dataset to import\n",
    "arg = TreeCycleDataset\n",
    "dataset_name = arg.__name__\n",
    "dataset = arg()\n",
    "\n",
    "if len(dataset) == 1:\n",
    "    dgl_Gs = [dataset[0]]\n",
    "else:\n",
    "    dgl_Gs = list(dataset)\n",
    "feature_map = [np.array(graph.ndata['feat']) for graph in dgl_Gs]\n",
    "label_map = [np.array(graph.ndata['label']) for graph in dgl_Gs]\n",
    "\n",
    "info = {}\n",
    "\n",
    "for idx, G in enumerate(dgl_Gs):    \n",
    "    # G is a dgl graph\n",
    "    for j in range(len(label_map[idx])):\n",
    "        info[str(idx) + '_' + str(j)] = label_map[idx][j]\n",
    "            \n",
    "df = pd.DataFrame.from_dict(info, orient='index').reset_index().rename(columns={\"index\": \"name\", 0: \"label\"})\n",
    "\n",
    "train_df_list = []\n",
    "val_df_list = []\n",
    "test_df_list = []\n",
    "for idx, G in enumerate(dgl_Gs):\n",
    "    num_labels = list(range(len(G.ndata['label'])))\n",
    "    train_ind = np.random.choice(num_labels,int(len(num_labels)*0.7),replace=False) ## We randomly pick 70% of the data as part of the training set\n",
    "    train_pattern = str(idx)+'_(' + '|'.join(map(str, train_ind)) + ')$'\n",
    "    train = df[df['name'].str.contains(re.compile(train_pattern))]\n",
    "    train_df_list.append(train)\n",
    "    num_labels = [x for x in num_labels if x not in train_ind]\n",
    "    \n",
    "    val_ind = np.random.choice(num_labels,int(len(num_labels)*0.33),replace=False) ## We randomly pick 10% of the data as part of the validation set\n",
    "    val_pattern = str(idx)+'_(' + '|'.join(map(str, val_ind)) + ')$'\n",
    "    val = df[df['name'].str.contains(re.compile(val_pattern))]\n",
    "    val_df_list.append(val)\n",
    "    num_labels = [x for x in num_labels if x not in val_ind]\n",
    "    \n",
    "    test_ind = num_labels\n",
    "    test_pattern = str(idx)+'_(' + '|'.join(map(str, test_ind)) + ')$'  ## We randomly pick 20% of the data as part of the test set\n",
    "    test = df[df['name'].str.contains(re.compile(test_pattern))]\n",
    "    test_df_list.append(test)\n",
    "    \n",
    "train_df = pd.concat(train_df_list)\n",
    "val_df = pd.concat(val_df_list)\n",
    "test_df = pd.concat(test_df_list)\n",
    "\n",
    "directory = Path('data/' + str(dataset_name))\n",
    "if not directory.exists():\n",
    "    directory.mkdir(parents=True, exist_ok=True)\n",
    "\n",
    "train_df.reset_index(drop = True).to_csv('data/' + str(dataset_name) + '/train.csv')\n",
    "val_df.reset_index(drop = True).to_csv('data/' + str(dataset_name) + '/val.csv')\n",
    "test_df.reset_index(drop = True).to_csv('data/' + str(dataset_name) + '/test.csv')\n",
    "\n",
    "with open('data/' + str(dataset_name) + '/graph_dgl.pkl', 'wb') as f:\n",
    "    pickle.dump(dgl_Gs, f)\n",
    "    \n",
    "with open('data/' + str(dataset_name) + '/label.pkl', 'wb') as f:\n",
    "    pickle.dump(info, f)\n",
    "    \n",
    "np.save('data/' + str(dataset_name) + '/features.npy', np.array(feature_map))"
   ]
  },
  {
   "cell_type": "code",
   "execution_count": 83,
   "id": "486a129e-6171-42ab-929b-5f005aff3efc",
   "metadata": {},
   "outputs": [
    {
     "name": "stdout",
     "output_type": "stream",
     "text": [
      "Namespace(epoch=3, n_way=3, k_spt=3, k_qry=5, task_num=8, meta_lr=0.001, update_lr=0.001, update_step=5, update_step_test=10, input_dim=1, hidden_dim=64, attention_size=32, data_dir='data/TreeCycleDataset/', no_finetune=True, task_setup='Shared', method='G-Meta', task_n=1, task_mode='False', val_result_report_steps=100, train_result_report_steps=100, num_workers=0, batchsz=1000, link_pred_mode='False', h=2, sample_nodes=1000)\n",
      "There are 2 classes \n",
      "Meta(\n",
      "  (net): Classifier(\n",
      "    (vars): ParameterList(\n",
      "        (0): Parameter containing: [torch.float32 of size 1x64 (cuda:0)]\n",
      "        (1): Parameter containing: [torch.float32 of size 64 (cuda:0)]\n",
      "        (2): Parameter containing: [torch.float32 of size 64x64 (cuda:0)]\n",
      "        (3): Parameter containing: [torch.float32 of size 64 (cuda:0)]\n",
      "        (4): Parameter containing: [torch.float32 of size 2x64 (cuda:0)]\n",
      "        (5): Parameter containing: [torch.float32 of size 2 (cuda:0)]\n",
      "    )\n",
      "    (_manifold): PoincareBall manifold\n",
      "  )\n",
      "  (_manifold): PoincareBall manifold\n",
      ")\n",
      "Total trainable tensors: 4418\n",
      "shuffle DB :train, b:1000, 3-way, 3-shot, 5-query, 2-hops\n",
      "shuffle DB :val, b:100, 3-way, 3-shot, 5-query, 2-hops\n",
      "shuffle DB :test, b:100, 3-way, 3-shot, 5-query, 2-hops\n",
      "------ Start Training ------\n",
      "Epoch: 1  Step: 0  training acc: 0.537  time elapsed: 41.88  data loading takes: 1.307  Memory usage: 186.8\n",
      "Epoch: 1  Step: 100  training acc: 0.562  time elapsed: 11.36  data loading takes: 0.079  Memory usage: 188.8\n",
      "Epoch: 1  Val acc: 0.54\n",
      "Epoch: 2  Step: 0  training acc: 0.55  time elapsed: 10.77  data loading takes: 0.143  Memory usage: 188.4\n",
      "Epoch: 2  Step: 100  training acc: 0.562  time elapsed: 11.59  data loading takes: 0.081  Memory usage: 188.8\n",
      "Epoch: 2  Val acc: 0.541\n",
      "Epoch: 3  Step: 0  training acc: 0.55  time elapsed: 12.44  data loading takes: 0.111  Memory usage: 188.6\n",
      "Epoch: 3  Step: 100  training acc: 0.462  time elapsed: 12.31  data loading takes: 0.028  Memory usage: 188.8\n",
      "Epoch: 3  Val acc: 0.545\n",
      "Test acc: 0.529\n",
      "Early Stopped Test acc: 0.542\n",
      "Total Time: 5843.\n",
      "Max Memory: 189.0\n"
     ]
    }
   ],
   "source": [
    "!python train.py --data_dir data/TreeCycleDataset/ --task_setup Shared --epoch 3 --train_result_report_steps 100 --k_qry 5"
   ]
  },
  {
   "cell_type": "code",
   "execution_count": 84,
   "id": "b7d75572-050c-4ceb-936d-c49f62a5f763",
   "metadata": {},
   "outputs": [
    {
     "name": "stdout",
     "output_type": "stream",
     "text": [
      "Namespace(epoch=3, n_way=3, k_spt=3, k_qry=10, task_num=8, meta_lr=0.001, update_lr=0.001, update_step=5, update_step_test=10, input_dim=1, hidden_dim=64, attention_size=32, data_dir='data/TreeCycleDataset/', no_finetune=True, task_setup='Shared', method='G-Meta', task_n=1, task_mode='False', val_result_report_steps=100, train_result_report_steps=100, num_workers=0, batchsz=1000, link_pred_mode='False', h=2, sample_nodes=1000)\n",
      "There are 2 classes \n",
      "Meta(\n",
      "  (net): Classifier(\n",
      "    (vars): ParameterList(\n",
      "        (0): Parameter containing: [torch.float32 of size 1x64 (cuda:0)]\n",
      "        (1): Parameter containing: [torch.float32 of size 64 (cuda:0)]\n",
      "        (2): Parameter containing: [torch.float32 of size 64x64 (cuda:0)]\n",
      "        (3): Parameter containing: [torch.float32 of size 64 (cuda:0)]\n",
      "        (4): Parameter containing: [torch.float32 of size 2x64 (cuda:0)]\n",
      "        (5): Parameter containing: [torch.float32 of size 2 (cuda:0)]\n",
      "    )\n",
      "    (_manifold): PoincareBall manifold\n",
      "  )\n",
      "  (_manifold): PoincareBall manifold\n",
      ")\n",
      "Total trainable tensors: 4418\n",
      "shuffle DB :train, b:1000, 3-way, 3-shot, 10-query, 2-hops\n",
      "shuffle DB :val, b:100, 3-way, 3-shot, 10-query, 2-hops\n",
      "shuffle DB :test, b:100, 3-way, 3-shot, 10-query, 2-hops\n",
      "------ Start Training ------\n",
      "Epoch: 1  Step: 0  training acc: 0.518  time elapsed: 88.39  data loading takes: 4.044  Memory usage: 189.1\n",
      "Epoch: 1  Step: 100  training acc: 0.575  time elapsed: 11.69  data loading takes: 0.045  Memory usage: 189.3\n",
      "Epoch: 1  Val acc: 0.553\n",
      "Epoch: 2  Step: 0  training acc: 0.581  time elapsed: 11.37  data loading takes: 0.131  Memory usage: 189.2\n",
      "Epoch: 2  Step: 100  training acc: 0.55  time elapsed: 12.66  data loading takes: 0.070  Memory usage: 189.5\n",
      "Epoch: 2  Val acc: 0.556\n",
      "Epoch: 3  Step: 0  training acc: 0.55  time elapsed: 11.61  data loading takes: 0.110  Memory usage: 189.0\n",
      "Epoch: 3  Step: 100  training acc: 0.481  time elapsed: 10.69  data loading takes: 0.071  Memory usage: 189.5\n",
      "Epoch: 3  Val acc: 0.555\n",
      "Test acc: 0.535\n",
      "Early Stopped Test acc: 0.536\n",
      "Total Time: 5766.\n",
      "Max Memory: 189.7\n"
     ]
    }
   ],
   "source": [
    "!python train.py --data_dir data/TreeCycleDataset/ --task_setup Shared --epoch 3 --train_result_report_steps 100 --k_qry 10"
   ]
  },
  {
   "cell_type": "code",
   "execution_count": 85,
   "id": "11ce13f6-71ef-4982-86c4-6c64093b8383",
   "metadata": {},
   "outputs": [
    {
     "name": "stdout",
     "output_type": "stream",
     "text": [
      "Namespace(epoch=3, n_way=3, k_spt=3, k_qry=20, task_num=8, meta_lr=0.001, update_lr=0.001, update_step=5, update_step_test=10, input_dim=1, hidden_dim=64, attention_size=32, data_dir='data/TreeCycleDataset/', no_finetune=True, task_setup='Shared', method='G-Meta', task_n=1, task_mode='False', val_result_report_steps=100, train_result_report_steps=100, num_workers=0, batchsz=1000, link_pred_mode='False', h=2, sample_nodes=1000)\n",
      "There are 2 classes \n",
      "Meta(\n",
      "  (net): Classifier(\n",
      "    (vars): ParameterList(\n",
      "        (0): Parameter containing: [torch.float32 of size 1x64 (cuda:0)]\n",
      "        (1): Parameter containing: [torch.float32 of size 64 (cuda:0)]\n",
      "        (2): Parameter containing: [torch.float32 of size 64x64 (cuda:0)]\n",
      "        (3): Parameter containing: [torch.float32 of size 64 (cuda:0)]\n",
      "        (4): Parameter containing: [torch.float32 of size 2x64 (cuda:0)]\n",
      "        (5): Parameter containing: [torch.float32 of size 2 (cuda:0)]\n",
      "    )\n",
      "    (_manifold): PoincareBall manifold\n",
      "  )\n",
      "  (_manifold): PoincareBall manifold\n",
      ")\n",
      "Total trainable tensors: 4418\n",
      "shuffle DB :train, b:1000, 3-way, 3-shot, 20-query, 2-hops\n",
      "shuffle DB :val, b:100, 3-way, 3-shot, 20-query, 2-hops\n",
      "shuffle DB :test, b:100, 3-way, 3-shot, 20-query, 2-hops\n",
      "------ Start Training ------\n",
      "Epoch: 1  Step: 0  training acc: 0.521  time elapsed: 90.23  data loading takes: 3.536  Memory usage: 188.8\n",
      "Epoch: 1  Step: 100  training acc: 0.512  time elapsed: 12.92  data loading takes: 0.067  Memory usage: 188.9\n",
      "Epoch: 1  Val acc: 0.543\n",
      "Epoch: 2  Step: 0  training acc: 0.518  time elapsed: 11.21  data loading takes: 0.113  Memory usage: 189.0\n",
      "Epoch: 2  Step: 100  training acc: 0.534  time elapsed: 14.30  data loading takes: 0.118  Memory usage: 189.9\n",
      "Epoch: 2  Val acc: 0.543\n",
      "Epoch: 3  Step: 0  training acc: 0.599  time elapsed: 15.68  data loading takes: 0.106  Memory usage: 189.8\n",
      "Epoch: 3  Step: 100  training acc: 0.540  time elapsed: 12.39  data loading takes: 0.114  Memory usage: 200.1\n",
      "Epoch: 3  Val acc: 0.542\n",
      "Test acc: 0.524\n",
      "Early Stopped Test acc: 0.539\n",
      "Total Time: 6611.\n",
      "Max Memory: 201.8\n"
     ]
    }
   ],
   "source": [
    "!python train.py --data_dir data/TreeCycleDataset/ --task_setup Shared --epoch 3 --train_result_report_steps 100 --k_qry 20"
   ]
  },
  {
   "cell_type": "code",
   "execution_count": 86,
   "id": "45a2d006-8470-4e79-8777-c51de21be749",
   "metadata": {},
   "outputs": [
    {
     "name": "stdout",
     "output_type": "stream",
     "text": [
      "Namespace(epoch=3, n_way=3, k_spt=3, k_qry=30, task_num=8, meta_lr=0.001, update_lr=0.001, update_step=5, update_step_test=10, input_dim=1, hidden_dim=64, attention_size=32, data_dir='data/TreeCycleDataset/', no_finetune=True, task_setup='Shared', method='G-Meta', task_n=1, task_mode='False', val_result_report_steps=100, train_result_report_steps=100, num_workers=0, batchsz=1000, link_pred_mode='False', h=2, sample_nodes=1000)\n",
      "There are 2 classes \n",
      "Meta(\n",
      "  (net): Classifier(\n",
      "    (vars): ParameterList(\n",
      "        (0): Parameter containing: [torch.float32 of size 1x64 (cuda:0)]\n",
      "        (1): Parameter containing: [torch.float32 of size 64 (cuda:0)]\n",
      "        (2): Parameter containing: [torch.float32 of size 64x64 (cuda:0)]\n",
      "        (3): Parameter containing: [torch.float32 of size 64 (cuda:0)]\n",
      "        (4): Parameter containing: [torch.float32 of size 2x64 (cuda:0)]\n",
      "        (5): Parameter containing: [torch.float32 of size 2 (cuda:0)]\n",
      "    )\n",
      "    (_manifold): PoincareBall manifold\n",
      "  )\n",
      "  (_manifold): PoincareBall manifold\n",
      ")\n",
      "Total trainable tensors: 4418\n",
      "shuffle DB :train, b:1000, 3-way, 3-shot, 30-query, 2-hops\n",
      "shuffle DB :val, b:100, 3-way, 3-shot, 30-query, 2-hops\n",
      "shuffle DB :test, b:100, 3-way, 3-shot, 30-query, 2-hops\n",
      "------ Start Training ------\n",
      "Epoch: 1  Step: 0  training acc: 0.495  time elapsed: 84.69  data loading takes: 50.56  Memory usage: 197.8\n",
      "Epoch: 1  Step: 100  training acc: 0.554  time elapsed: 12.00  data loading takes: 0.294  Memory usage: 195.7\n",
      "Epoch: 1  Val acc: 0.528\n",
      "Epoch: 2  Step: 0  training acc: 0.575  time elapsed: 12.75  data loading takes: 0.424  Memory usage: 200.0\n",
      "Epoch: 2  Step: 100  training acc: 0.564  time elapsed: 13.03  data loading takes: 0.336  Memory usage: 199.9\n",
      "Epoch: 2  Val acc: 0.53\n",
      "Epoch: 3  Step: 0  training acc: 0.558  time elapsed: 13.09  data loading takes: 0.407  Memory usage: 199.8\n",
      "Epoch: 3  Step: 100  training acc: 0.516  time elapsed: 6.166  data loading takes: 0.081  Memory usage: 198.3\n",
      "Epoch: 3  Val acc: 0.528\n",
      "Test acc: 0.530\n",
      "Early Stopped Test acc: 0.549\n",
      "Total Time: 5652.\n",
      "Max Memory: 203.5\n"
     ]
    }
   ],
   "source": [
    "!python train.py --data_dir data/TreeCycleDataset/ --task_setup Shared --epoch 3 --train_result_report_steps 100 --k_qry 30"
   ]
  },
  {
   "cell_type": "code",
   "execution_count": 87,
   "id": "2ff1e0b7-eabf-4df9-94f3-1661bf1b5128",
   "metadata": {},
   "outputs": [
    {
     "name": "stdout",
     "output_type": "stream",
     "text": [
      "Namespace(epoch=3, n_way=3, k_spt=3, k_qry=24, task_num=8, meta_lr=0.001, update_lr=0.001, update_step=5, update_step_test=10, input_dim=1, hidden_dim=64, attention_size=32, data_dir='data/TreeCycleDataset/', no_finetune=True, task_setup='Shared', method='G-Meta', task_n=1, task_mode='False', val_result_report_steps=100, train_result_report_steps=100, num_workers=0, batchsz=100, link_pred_mode='False', h=2, sample_nodes=1000)\n",
      "There are 2 classes \n",
      "Meta(\n",
      "  (net): Classifier(\n",
      "    (vars): ParameterList(\n",
      "        (0): Parameter containing: [torch.float32 of size 1x64 (cuda:0)]\n",
      "        (1): Parameter containing: [torch.float32 of size 64 (cuda:0)]\n",
      "        (2): Parameter containing: [torch.float32 of size 64x64 (cuda:0)]\n",
      "        (3): Parameter containing: [torch.float32 of size 64 (cuda:0)]\n",
      "        (4): Parameter containing: [torch.float32 of size 2x64 (cuda:0)]\n",
      "        (5): Parameter containing: [torch.float32 of size 2 (cuda:0)]\n",
      "    )\n",
      "    (_manifold): PoincareBall manifold\n",
      "  )\n",
      "  (_manifold): PoincareBall manifold\n",
      ")\n",
      "Total trainable tensors: 4418\n",
      "shuffle DB :train, b:100, 3-way, 3-shot, 24-query, 2-hops\n",
      "shuffle DB :val, b:100, 3-way, 3-shot, 24-query, 2-hops\n",
      "shuffle DB :test, b:100, 3-way, 3-shot, 24-query, 2-hops\n",
      "------ Start Training ------\n",
      "Epoch: 1  Step: 0  training acc: 0.559  time elapsed: 40.99  data loading takes: 2.252  Memory usage: 198.1\n",
      "Epoch: 1  Val acc: 0.558\n",
      "Epoch: 2  Step: 0  training acc: 0.528  time elapsed: 5.824  data loading takes: 0.106  Memory usage: 198.2\n",
      "Epoch: 2  Val acc: 0.558\n",
      "Epoch: 3  Step: 0  training acc: 0.515  time elapsed: 5.966  data loading takes: 0.112  Memory usage: 198.2\n",
      "Epoch: 3  Val acc: 0.556\n",
      "Test acc: 0.511\n",
      "Early Stopped Test acc: 0.549\n",
      "Total Time: 934.9\n",
      "Max Memory: 198.4\n"
     ]
    }
   ],
   "source": [
    "!python train.py --data_dir data/TreeCycleDataset/ --task_setup Shared --epoch 3 --train_result_report_steps 100 --batchsz 100"
   ]
  },
  {
   "cell_type": "code",
   "execution_count": 88,
   "id": "5b6fd96b-8edf-4159-8c9e-c140b006888e",
   "metadata": {},
   "outputs": [
    {
     "name": "stdout",
     "output_type": "stream",
     "text": [
      "Namespace(epoch=3, n_way=3, k_spt=3, k_qry=24, task_num=8, meta_lr=0.001, update_lr=0.001, update_step=5, update_step_test=10, input_dim=1, hidden_dim=64, attention_size=32, data_dir='data/TreeCycleDataset/', no_finetune=True, task_setup='Shared', method='G-Meta', task_n=1, task_mode='False', val_result_report_steps=100, train_result_report_steps=100, num_workers=0, batchsz=500, link_pred_mode='False', h=2, sample_nodes=1000)\n",
      "There are 2 classes \n",
      "Meta(\n",
      "  (net): Classifier(\n",
      "    (vars): ParameterList(\n",
      "        (0): Parameter containing: [torch.float32 of size 1x64 (cuda:0)]\n",
      "        (1): Parameter containing: [torch.float32 of size 64 (cuda:0)]\n",
      "        (2): Parameter containing: [torch.float32 of size 64x64 (cuda:0)]\n",
      "        (3): Parameter containing: [torch.float32 of size 64 (cuda:0)]\n",
      "        (4): Parameter containing: [torch.float32 of size 2x64 (cuda:0)]\n",
      "        (5): Parameter containing: [torch.float32 of size 2 (cuda:0)]\n",
      "    )\n",
      "    (_manifold): PoincareBall manifold\n",
      "  )\n",
      "  (_manifold): PoincareBall manifold\n",
      ")\n",
      "Total trainable tensors: 4418\n",
      "shuffle DB :train, b:500, 3-way, 3-shot, 24-query, 2-hops\n",
      "shuffle DB :val, b:100, 3-way, 3-shot, 24-query, 2-hops\n",
      "shuffle DB :test, b:100, 3-way, 3-shot, 24-query, 2-hops\n",
      "------ Start Training ------\n",
      "Epoch: 1  Step: 0  training acc: 0.520  time elapsed: 42.43  data loading takes: 2.741  Memory usage: 198.1\n",
      "Epoch: 1  Val acc: 0.547\n",
      "Epoch: 2  Step: 0  training acc: 0.585  time elapsed: 5.836  data loading takes: 0.112  Memory usage: 198.1\n",
      "Epoch: 2  Val acc: 0.525\n",
      "Epoch: 3  Step: 0  training acc: 0.518  time elapsed: 5.900  data loading takes: 0.113  Memory usage: 198.1\n",
      "Epoch: 3  Val acc: 0.525\n",
      "Test acc: 0.527\n",
      "Early Stopped Test acc: 0.542\n",
      "Total Time: 1838.\n",
      "Max Memory: 198.5\n"
     ]
    }
   ],
   "source": [
    "!python train.py --data_dir data/TreeCycleDataset/ --task_setup Shared --epoch 3 --train_result_report_steps 100 --batchsz 500"
   ]
  },
  {
   "cell_type": "code",
   "execution_count": 89,
   "id": "26f4ac9a-5944-4b1b-a655-4ee16da04ebf",
   "metadata": {},
   "outputs": [
    {
     "name": "stdout",
     "output_type": "stream",
     "text": [
      "Namespace(epoch=3, n_way=3, k_spt=3, k_qry=24, task_num=8, meta_lr=0.001, update_lr=0.001, update_step=5, update_step_test=10, input_dim=1, hidden_dim=64, attention_size=32, data_dir='data/TreeCycleDataset/', no_finetune=True, task_setup='Shared', method='G-Meta', task_n=1, task_mode='False', val_result_report_steps=100, train_result_report_steps=100, num_workers=0, batchsz=1000, link_pred_mode='False', h=2, sample_nodes=1000)\n",
      "There are 2 classes \n",
      "Meta(\n",
      "  (net): Classifier(\n",
      "    (vars): ParameterList(\n",
      "        (0): Parameter containing: [torch.float32 of size 1x64 (cuda:0)]\n",
      "        (1): Parameter containing: [torch.float32 of size 64 (cuda:0)]\n",
      "        (2): Parameter containing: [torch.float32 of size 64x64 (cuda:0)]\n",
      "        (3): Parameter containing: [torch.float32 of size 64 (cuda:0)]\n",
      "        (4): Parameter containing: [torch.float32 of size 2x64 (cuda:0)]\n",
      "        (5): Parameter containing: [torch.float32 of size 2 (cuda:0)]\n",
      "    )\n",
      "    (_manifold): PoincareBall manifold\n",
      "  )\n",
      "  (_manifold): PoincareBall manifold\n",
      ")\n",
      "Total trainable tensors: 4418\n",
      "shuffle DB :train, b:1000, 3-way, 3-shot, 24-query, 2-hops\n",
      "shuffle DB :val, b:100, 3-way, 3-shot, 24-query, 2-hops\n",
      "shuffle DB :test, b:100, 3-way, 3-shot, 24-query, 2-hops\n",
      "------ Start Training ------\n",
      "Epoch: 1  Step: 0  training acc: 0.510  time elapsed: 39.94  data loading takes: 2.473  Memory usage: 198.3\n",
      "Epoch: 1  Step: 100  training acc: 0.552  time elapsed: 5.930  data loading takes: 0.078  Memory usage: 198.1\n",
      "Epoch: 1  Val acc: 0.546\n",
      "Epoch: 2  Step: 0  training acc: 0.531  time elapsed: 5.865  data loading takes: 0.089  Memory usage: 198.3\n",
      "Epoch: 2  Step: 100  training acc: 0.565  time elapsed: 5.885  data loading takes: 0.079  Memory usage: 192.2\n",
      "Epoch: 2  Val acc: 0.548\n",
      "Epoch: 3  Step: 0  training acc: 0.567  time elapsed: 5.860  data loading takes: 0.108  Memory usage: 192.0\n",
      "Epoch: 3  Step: 100  training acc: 0.541  time elapsed: 5.907  data loading takes: 0.079  Memory usage: 192.3\n",
      "Epoch: 3  Val acc: 0.546\n",
      "Test acc: 0.528\n",
      "Early Stopped Test acc: 0.547\n",
      "Total Time: 2964.\n",
      "Max Memory: 198.5\n"
     ]
    }
   ],
   "source": [
    "!python train.py --data_dir data/TreeCycleDataset/ --task_setup Shared --epoch 3 --train_result_report_steps 100 --batchsz 1000"
   ]
  },
  {
   "cell_type": "code",
   "execution_count": 90,
   "id": "e814cd6f-912d-4d59-b389-5c92267d92fd",
   "metadata": {},
   "outputs": [
    {
     "name": "stdout",
     "output_type": "stream",
     "text": [
      "Namespace(epoch=3, n_way=3, k_spt=3, k_qry=24, task_num=8, meta_lr=0.001, update_lr=0.001, update_step=5, update_step_test=10, input_dim=1, hidden_dim=64, attention_size=32, data_dir='data/TreeCycleDataset/', no_finetune=True, task_setup='Shared', method='G-Meta', task_n=1, task_mode='False', val_result_report_steps=100, train_result_report_steps=100, num_workers=0, batchsz=2000, link_pred_mode='False', h=2, sample_nodes=1000)\n",
      "There are 2 classes \n",
      "Meta(\n",
      "  (net): Classifier(\n",
      "    (vars): ParameterList(\n",
      "        (0): Parameter containing: [torch.float32 of size 1x64 (cuda:0)]\n",
      "        (1): Parameter containing: [torch.float32 of size 64 (cuda:0)]\n",
      "        (2): Parameter containing: [torch.float32 of size 64x64 (cuda:0)]\n",
      "        (3): Parameter containing: [torch.float32 of size 64 (cuda:0)]\n",
      "        (4): Parameter containing: [torch.float32 of size 2x64 (cuda:0)]\n",
      "        (5): Parameter containing: [torch.float32 of size 2 (cuda:0)]\n",
      "    )\n",
      "    (_manifold): PoincareBall manifold\n",
      "  )\n",
      "  (_manifold): PoincareBall manifold\n",
      ")\n",
      "Total trainable tensors: 4418\n",
      "shuffle DB :train, b:2000, 3-way, 3-shot, 24-query, 2-hops\n",
      "shuffle DB :val, b:100, 3-way, 3-shot, 24-query, 2-hops\n",
      "shuffle DB :test, b:100, 3-way, 3-shot, 24-query, 2-hops\n",
      "------ Start Training ------\n",
      "Epoch: 1  Step: 0  training acc: 0.523  time elapsed: 40.79  data loading takes: 2.261  Memory usage: 192.3\n",
      "Epoch: 1  Step: 100  training acc: 0.562  time elapsed: 5.820  data loading takes: 0.075  Memory usage: 192.0\n",
      "Epoch: 1  Step: 200  training acc: 0.536  time elapsed: 6.027  data loading takes: 0.078  Memory usage: 192.0\n",
      "Epoch: 1  Val acc: 0.543\n",
      "Epoch: 2  Step: 0  training acc: 0.526  time elapsed: 5.874  data loading takes: 0.118  Memory usage: 192.1\n",
      "Epoch: 2  Step: 100  training acc: 0.565  time elapsed: 5.962  data loading takes: 0.083  Memory usage: 192.2\n",
      "Epoch: 2  Step: 200  training acc: 0.510  time elapsed: 5.975  data loading takes: 0.076  Memory usage: 192.0\n",
      "Epoch: 2  Val acc: 0.545\n",
      "Epoch: 3  Step: 0  training acc: 0.510  time elapsed: 5.946  data loading takes: 0.082  Memory usage: 192.0\n",
      "Epoch: 3  Step: 100  training acc: 0.572  time elapsed: 5.898  data loading takes: 0.091  Memory usage: 191.9\n",
      "Epoch: 3  Step: 200  training acc: 0.520  time elapsed: 5.837  data loading takes: 0.084  Memory usage: 192.0\n",
      "Epoch: 3  Val acc: 0.545\n",
      "Test acc: 0.543\n",
      "Early Stopped Test acc: 0.553\n",
      "Total Time: 5219.\n",
      "Max Memory: 192.6\n"
     ]
    }
   ],
   "source": [
    "!python train.py --data_dir data/TreeCycleDataset/ --task_setup Shared --epoch 3 --train_result_report_steps 100 --batchsz 2000"
   ]
  },
  {
   "cell_type": "code",
   "execution_count": 91,
   "id": "72afe5ce-3932-4dc4-ad60-27e3dbde95b8",
   "metadata": {},
   "outputs": [
    {
     "name": "stdout",
     "output_type": "stream",
     "text": [
      "Namespace(epoch=3, n_way=3, k_spt=3, k_qry=24, task_num=8, meta_lr=0.001, update_lr=0.001, update_step=5, update_step_test=10, input_dim=1, hidden_dim=32, attention_size=32, data_dir='data/TreeCycleDataset/', no_finetune=True, task_setup='Shared', method='G-Meta', task_n=1, task_mode='False', val_result_report_steps=100, train_result_report_steps=100, num_workers=0, batchsz=1000, link_pred_mode='False', h=2, sample_nodes=1000)\n",
      "There are 2 classes \n",
      "Meta(\n",
      "  (net): Classifier(\n",
      "    (vars): ParameterList(\n",
      "        (0): Parameter containing: [torch.float32 of size 1x32 (cuda:0)]\n",
      "        (1): Parameter containing: [torch.float32 of size 32 (cuda:0)]\n",
      "        (2): Parameter containing: [torch.float32 of size 32x32 (cuda:0)]\n",
      "        (3): Parameter containing: [torch.float32 of size 32 (cuda:0)]\n",
      "        (4): Parameter containing: [torch.float32 of size 2x32 (cuda:0)]\n",
      "        (5): Parameter containing: [torch.float32 of size 2 (cuda:0)]\n",
      "    )\n",
      "    (_manifold): PoincareBall manifold\n",
      "  )\n",
      "  (_manifold): PoincareBall manifold\n",
      ")\n",
      "Total trainable tensors: 1186\n",
      "shuffle DB :train, b:1000, 3-way, 3-shot, 24-query, 2-hops\n",
      "shuffle DB :val, b:100, 3-way, 3-shot, 24-query, 2-hops\n",
      "shuffle DB :test, b:100, 3-way, 3-shot, 24-query, 2-hops\n",
      "------ Start Training ------\n",
      "Epoch: 1  Step: 0  training acc: 0.484  time elapsed: 40.52  data loading takes: 2.431  Memory usage: 192.0\n",
      "Epoch: 1  Step: 100  training acc: 0.559  time elapsed: 5.893  data loading takes: 0.083  Memory usage: 192.0\n",
      "Epoch: 1  Val acc: 0.565\n",
      "Epoch: 2  Step: 0  training acc: 0.570  time elapsed: 5.898  data loading takes: 0.111  Memory usage: 192.2\n",
      "Epoch: 2  Step: 100  training acc: 0.591  time elapsed: 5.874  data loading takes: 0.068  Memory usage: 192.0\n",
      "Epoch: 2  Val acc: 0.570\n",
      "Epoch: 3  Step: 0  training acc: 0.539  time elapsed: 5.846  data loading takes: 0.110  Memory usage: 192.1\n",
      "Epoch: 3  Step: 100  training acc: 0.541  time elapsed: 5.872  data loading takes: 0.083  Memory usage: 192.1\n",
      "Epoch: 3  Val acc: 0.569\n",
      "Test acc: 0.543\n",
      "Early Stopped Test acc: 0.562\n",
      "Total Time: 2945.\n",
      "Max Memory: 192.4\n"
     ]
    }
   ],
   "source": [
    "!python train.py --data_dir data/TreeCycleDataset/ --task_setup Shared --epoch 3 --train_result_report_steps 100 --hidden_dim 32"
   ]
  },
  {
   "cell_type": "code",
   "execution_count": 92,
   "id": "e26153db-6210-4139-b4d1-fb8ecc3ac578",
   "metadata": {},
   "outputs": [
    {
     "name": "stdout",
     "output_type": "stream",
     "text": [
      "Namespace(epoch=3, n_way=3, k_spt=3, k_qry=24, task_num=8, meta_lr=0.001, update_lr=0.001, update_step=5, update_step_test=10, input_dim=1, hidden_dim=64, attention_size=32, data_dir='data/TreeCycleDataset/', no_finetune=True, task_setup='Shared', method='G-Meta', task_n=1, task_mode='False', val_result_report_steps=100, train_result_report_steps=100, num_workers=0, batchsz=1000, link_pred_mode='False', h=2, sample_nodes=1000)\n",
      "There are 2 classes \n",
      "Meta(\n",
      "  (net): Classifier(\n",
      "    (vars): ParameterList(\n",
      "        (0): Parameter containing: [torch.float32 of size 1x64 (cuda:0)]\n",
      "        (1): Parameter containing: [torch.float32 of size 64 (cuda:0)]\n",
      "        (2): Parameter containing: [torch.float32 of size 64x64 (cuda:0)]\n",
      "        (3): Parameter containing: [torch.float32 of size 64 (cuda:0)]\n",
      "        (4): Parameter containing: [torch.float32 of size 2x64 (cuda:0)]\n",
      "        (5): Parameter containing: [torch.float32 of size 2 (cuda:0)]\n",
      "    )\n",
      "    (_manifold): PoincareBall manifold\n",
      "  )\n",
      "  (_manifold): PoincareBall manifold\n",
      ")\n",
      "Total trainable tensors: 4418\n",
      "shuffle DB :train, b:1000, 3-way, 3-shot, 24-query, 2-hops\n",
      "shuffle DB :val, b:100, 3-way, 3-shot, 24-query, 2-hops\n",
      "shuffle DB :test, b:100, 3-way, 3-shot, 24-query, 2-hops\n",
      "------ Start Training ------\n",
      "Epoch: 1  Step: 0  training acc: 0.510  time elapsed: 41.82  data loading takes: 2.489  Memory usage: 192.2\n",
      "Epoch: 1  Step: 100  training acc: 0.552  time elapsed: 5.741  data loading takes: 0.077  Memory usage: 192.1\n",
      "Epoch: 1  Val acc: 0.546\n",
      "Epoch: 2  Step: 0  training acc: 0.531  time elapsed: 5.916  data loading takes: 0.072  Memory usage: 192.1\n",
      "Epoch: 2  Step: 100  training acc: 0.565  time elapsed: 5.819  data loading takes: 0.090  Memory usage: 192.1\n",
      "Epoch: 2  Val acc: 0.548\n",
      "Epoch: 3  Step: 0  training acc: 0.567  time elapsed: 6.044  data loading takes: 0.075  Memory usage: 192.1\n",
      "Epoch: 3  Step: 100  training acc: 0.541  time elapsed: 5.837  data loading takes: 0.089  Memory usage: 192.2\n",
      "Epoch: 3  Val acc: 0.546\n",
      "Test acc: 0.528\n",
      "Early Stopped Test acc: 0.547\n",
      "Total Time: 2957.\n",
      "Max Memory: 192.5\n"
     ]
    }
   ],
   "source": [
    "!python train.py --data_dir data/TreeCycleDataset/ --task_setup Shared --epoch 3 --train_result_report_steps 100 --hidden_dim 64"
   ]
  },
  {
   "cell_type": "code",
   "execution_count": 93,
   "id": "845b42e4-9bed-4c3d-8401-ad2b1ad19e4b",
   "metadata": {},
   "outputs": [
    {
     "name": "stdout",
     "output_type": "stream",
     "text": [
      "Namespace(epoch=3, n_way=3, k_spt=3, k_qry=24, task_num=8, meta_lr=0.001, update_lr=0.001, update_step=5, update_step_test=10, input_dim=1, hidden_dim=128, attention_size=32, data_dir='data/TreeCycleDataset/', no_finetune=True, task_setup='Shared', method='G-Meta', task_n=1, task_mode='False', val_result_report_steps=100, train_result_report_steps=100, num_workers=0, batchsz=1000, link_pred_mode='False', h=2, sample_nodes=1000)\n",
      "There are 2 classes \n",
      "Meta(\n",
      "  (net): Classifier(\n",
      "    (vars): ParameterList(\n",
      "        (0): Parameter containing: [torch.float32 of size 1x128 (cuda:0)]\n",
      "        (1): Parameter containing: [torch.float32 of size 128 (cuda:0)]\n",
      "        (2): Parameter containing: [torch.float32 of size 128x128 (cuda:0)]\n",
      "        (3): Parameter containing: [torch.float32 of size 128 (cuda:0)]\n",
      "        (4): Parameter containing: [torch.float32 of size 2x128 (cuda:0)]\n",
      "        (5): Parameter containing: [torch.float32 of size 2 (cuda:0)]\n",
      "    )\n",
      "    (_manifold): PoincareBall manifold\n",
      "  )\n",
      "  (_manifold): PoincareBall manifold\n",
      ")\n",
      "Total trainable tensors: 17026\n",
      "shuffle DB :train, b:1000, 3-way, 3-shot, 24-query, 2-hops\n",
      "shuffle DB :val, b:100, 3-way, 3-shot, 24-query, 2-hops\n",
      "shuffle DB :test, b:100, 3-way, 3-shot, 24-query, 2-hops\n",
      "------ Start Training ------\n",
      "Epoch: 1  Step: 0  training acc: 0.578  time elapsed: 41.38  data loading takes: 2.308  Memory usage: 192.0\n",
      "Epoch: 1  Step: 100  training acc: 0.546  time elapsed: 5.819  data loading takes: 0.088  Memory usage: 192.2\n",
      "Epoch: 1  Val acc: 0.546\n",
      "Epoch: 2  Step: 0  training acc: 0.580  time elapsed: 5.982  data loading takes: 0.110  Memory usage: 192.2\n",
      "Epoch: 2  Step: 100  training acc: 0.536  time elapsed: 5.846  data loading takes: 0.081  Memory usage: 192.2\n",
      "Epoch: 2  Val acc: 0.547\n",
      "Epoch: 3  Step: 0  training acc: 0.536  time elapsed: 5.957  data loading takes: 0.099  Memory usage: 192.3\n",
      "Epoch: 3  Val acc: 0.543\n",
      "Test acc: 0.521\n",
      "Early Stopped Test acc: 0.547\n",
      "Total Time: 2947.\n",
      "Max Memory: 192.6\n"
     ]
    }
   ],
   "source": [
    "!python train.py --data_dir data/TreeCycleDataset/ --task_setup Shared --epoch 3 --train_result_report_steps 100 --hidden_dim 128"
   ]
  },
  {
   "cell_type": "code",
   "execution_count": 94,
   "id": "768e16d4-ef00-4fb4-8496-91d11ac09f9e",
   "metadata": {},
   "outputs": [
    {
     "name": "stdout",
     "output_type": "stream",
     "text": [
      "Namespace(epoch=3, n_way=3, k_spt=3, k_qry=24, task_num=8, meta_lr=0.001, update_lr=0.001, update_step=5, update_step_test=10, input_dim=1, hidden_dim=256, attention_size=32, data_dir='data/TreeCycleDataset/', no_finetune=True, task_setup='Shared', method='G-Meta', task_n=1, task_mode='False', val_result_report_steps=100, train_result_report_steps=100, num_workers=0, batchsz=1000, link_pred_mode='False', h=2, sample_nodes=1000)\n",
      "There are 2 classes \n",
      "Meta(\n",
      "  (net): Classifier(\n",
      "    (vars): ParameterList(\n",
      "        (0): Parameter containing: [torch.float32 of size 1x256 (cuda:0)]\n",
      "        (1): Parameter containing: [torch.float32 of size 256 (cuda:0)]\n",
      "        (2): Parameter containing: [torch.float32 of size 256x256 (cuda:0)]\n",
      "        (3): Parameter containing: [torch.float32 of size 256 (cuda:0)]\n",
      "        (4): Parameter containing: [torch.float32 of size 2x256 (cuda:0)]\n",
      "        (5): Parameter containing: [torch.float32 of size 2 (cuda:0)]\n",
      "    )\n",
      "    (_manifold): PoincareBall manifold\n",
      "  )\n",
      "  (_manifold): PoincareBall manifold\n",
      ")\n",
      "Total trainable tensors: 66818\n",
      "shuffle DB :train, b:1000, 3-way, 3-shot, 24-query, 2-hops\n",
      "shuffle DB :val, b:100, 3-way, 3-shot, 24-query, 2-hops\n",
      "shuffle DB :test, b:100, 3-way, 3-shot, 24-query, 2-hops\n",
      "------ Start Training ------\n",
      "Epoch: 1  Step: 0  training acc: 0.570  time elapsed: 40.06  data loading takes: 2.635  Memory usage: 192.4\n",
      "Epoch: 1  Step: 100  training acc: 0.539  time elapsed: 5.955  data loading takes: 0.089  Memory usage: 192.3\n",
      "Epoch: 1  Val acc: 0.544\n",
      "Epoch: 2  Step: 0  training acc: 0.546  time elapsed: 5.868  data loading takes: 0.079  Memory usage: 192.3\n",
      "Epoch: 2  Step: 100  training acc: 0.518  time elapsed: 5.924  data loading takes: 0.068  Memory usage: 192.3\n",
      "Epoch: 2  Val acc: 0.548\n",
      "Epoch: 3  Step: 0  training acc: 0.578  time elapsed: 5.984  data loading takes: 0.075  Memory usage: 192.2\n",
      "Epoch: 3  Step: 100  training acc: 0.528  time elapsed: 5.851  data loading takes: 0.092  Memory usage: 192.2\n",
      "Epoch: 3  Val acc: 0.548\n",
      "Test acc: 0.540\n",
      "Early Stopped Test acc: 0.551\n",
      "Total Time: 2956.\n",
      "Max Memory: 192.6\n"
     ]
    }
   ],
   "source": [
    "!python train.py --data_dir data/TreeCycleDataset/ --task_setup Shared --epoch 3 --train_result_report_steps 100 --hidden_dim 256"
   ]
  }
 ],
 "metadata": {
  "kernelspec": {
   "display_name": "Python 3 (ipykernel)",
   "language": "python",
   "name": "python3"
  },
  "language_info": {
   "codemirror_mode": {
    "name": "ipython",
    "version": 3
   },
   "file_extension": ".py",
   "mimetype": "text/x-python",
   "name": "python",
   "nbconvert_exporter": "python",
   "pygments_lexer": "ipython3",
   "version": "3.11.6"
  }
 },
 "nbformat": 4,
 "nbformat_minor": 5
}
