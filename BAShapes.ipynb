{
 "cells": [
  {
   "cell_type": "code",
   "execution_count": 1,
   "id": "6b88c4aa-d7c5-4f39-a4d1-6fc96e2b1233",
   "metadata": {},
   "outputs": [],
   "source": [
    "from dgl.data import *\n",
    "import numpy as np\n",
    "import torch\n",
    "import pandas as pd\n",
    "import pickle\n",
    "import argparse\n",
    "from pathlib import Path\n",
    "import re"
   ]
  },
  {
   "cell_type": "code",
   "execution_count": 3,
   "id": "c32a600a-d13f-4035-af2d-f84595b301b5",
   "metadata": {},
   "outputs": [
    {
     "name": "stdout",
     "output_type": "stream",
     "text": [
      "Done loading data from cached files.\n"
     ]
    }
   ],
   "source": [
    "dataset = BAShapeDataset()"
   ]
  },
  {
   "cell_type": "code",
   "execution_count": 6,
   "id": "b4b30212-513a-48a3-a981-2754c1f08b60",
   "metadata": {},
   "outputs": [
    {
     "data": {
      "text/plain": [
       "torch.Size([700, 1])"
      ]
     },
     "execution_count": 6,
     "metadata": {},
     "output_type": "execute_result"
    }
   ],
   "source": [
    "dataset[0].ndata['feat'].shape"
   ]
  },
  {
   "cell_type": "code",
   "execution_count": 7,
   "id": "37c49f28-5a87-4a05-87a4-83a66da45d78",
   "metadata": {},
   "outputs": [
    {
     "name": "stdout",
     "output_type": "stream",
     "text": [
      "Done loading data from cached files.\n"
     ]
    },
    {
     "name": "stderr",
     "output_type": "stream",
     "text": [
      "/tmp/ipykernel_1443869/2020844507.py:32: UserWarning: This pattern is interpreted as a regular expression, and has match groups. To actually get the groups, use str.extract.\n",
      "  train = df[df['name'].str.contains(re.compile(train_pattern))]\n",
      "/tmp/ipykernel_1443869/2020844507.py:38: UserWarning: This pattern is interpreted as a regular expression, and has match groups. To actually get the groups, use str.extract.\n",
      "  val = df[df['name'].str.contains(re.compile(val_pattern))]\n",
      "/tmp/ipykernel_1443869/2020844507.py:44: UserWarning: This pattern is interpreted as a regular expression, and has match groups. To actually get the groups, use str.extract.\n",
      "  test = df[df['name'].str.contains(re.compile(test_pattern))]\n"
     ]
    }
   ],
   "source": [
    "arg = BAShapeDataset\n",
    "# this is an example of disjoint label multiple graphs.\n",
    "dataset_name = arg.__name__\n",
    "dataset = arg()\n",
    "\n",
    "# assume you have a list of DGL graphs stored in the variable dgl_Gs\n",
    "if len(dataset) == 1:\n",
    "    dgl_Gs = [dataset[0]]\n",
    "else:\n",
    "    dgl_Gs = list(dataset)\n",
    "# assume you have an array of features where [feat_1, feat_2, ...] and each feat_i corresponding to the graph i.\n",
    "feature_map = [np.array(graph.ndata['feat']) for graph in dgl_Gs]\n",
    "# assume you have an array of labels where [label_1, label_2, ...] and each label_i corresponding to the graph i.\n",
    "label_map = [np.array(graph.ndata['label']) for graph in dgl_Gs]\n",
    "\n",
    "info = {}\n",
    "\n",
    "for idx, G in enumerate(dgl_Gs):    \n",
    "    # G is a dgl graph\n",
    "    for j in range(len(label_map[idx])):\n",
    "        info[str(idx) + '_' + str(j)] = label_map[idx][j]\n",
    "            \n",
    "df = pd.DataFrame.from_dict(info, orient='index').reset_index().rename(columns={\"index\": \"name\", 0: \"label\"})\n",
    "\n",
    "train_df_list = []\n",
    "val_df_list = []\n",
    "test_df_list = []\n",
    "for idx, G in enumerate(dgl_Gs):\n",
    "    num_labels = list(range(len(G.ndata['label'])))\n",
    "    train_ind = np.random.choice(num_labels,int(len(num_labels)*0.7),replace=False)\n",
    "    train_pattern = str(idx)+'_(' + '|'.join(map(str, train_ind)) + ')$'\n",
    "    train = df[df['name'].str.contains(re.compile(train_pattern))]\n",
    "    train_df_list.append(train)\n",
    "    num_labels = [x for x in num_labels if x not in train_ind]\n",
    "    \n",
    "    val_ind = np.random.choice(num_labels,int(len(num_labels)*0.33),replace=False)\n",
    "    val_pattern = str(idx)+'_(' + '|'.join(map(str, val_ind)) + ')$'\n",
    "    val = df[df['name'].str.contains(re.compile(val_pattern))]\n",
    "    val_df_list.append(val)\n",
    "    num_labels = [x for x in num_labels if x not in val_ind]\n",
    "    \n",
    "    test_ind = num_labels\n",
    "    test_pattern = str(idx)+'_(' + '|'.join(map(str, test_ind)) + ')$'\n",
    "    test = df[df['name'].str.contains(re.compile(test_pattern))]\n",
    "    test_df_list.append(test)\n",
    "    \n",
    "train_df = pd.concat(train_df_list)\n",
    "val_df = pd.concat(val_df_list)\n",
    "test_df = pd.concat(test_df_list)\n",
    "\n",
    "directory = Path('data/' + str(dataset_name))\n",
    "if not directory.exists():\n",
    "    directory.mkdir(parents=True, exist_ok=True)\n",
    "\n",
    "train_df.reset_index(drop = True).to_csv('data/' + str(dataset_name) + '/train.csv')\n",
    "val_df.reset_index(drop = True).to_csv('data/' + str(dataset_name) + '/val.csv')\n",
    "test_df.reset_index(drop = True).to_csv('data/' + str(dataset_name) + '/test.csv')\n",
    "\n",
    "with open('data/' + str(dataset_name) + '/graph_dgl.pkl', 'wb') as f:\n",
    "    pickle.dump(dgl_Gs, f)\n",
    "    \n",
    "with open('data/' + str(dataset_name) + '/label.pkl', 'wb') as f:\n",
    "    pickle.dump(info, f)\n",
    "    \n",
    "np.save('data/' + str(dataset_name) + '/features.npy', np.array(feature_map))"
   ]
  },
  {
   "cell_type": "code",
   "execution_count": null,
   "id": "486a129e-6171-42ab-929b-5f005aff3efc",
   "metadata": {},
   "outputs": [
    {
     "name": "stdout",
     "output_type": "stream",
     "text": [
      "Namespace(epoch=10, n_way=3, k_spt=3, k_qry=5, task_num=8, meta_lr=0.001, update_lr=0.001, update_step=5, update_step_test=10, input_dim=1, hidden_dim=64, attention_size=32, data_dir='data/BAShapeDataset/', no_finetune=True, task_setup='Shared', method='G-Meta', task_n=1, task_mode='False', val_result_report_steps=100, train_result_report_steps=100, num_workers=0, batchsz=1000, link_pred_mode='False', h=2, sample_nodes=1000)\n",
      "There are 4 classes \n",
      "Meta(\n",
      "  (net): Classifier(\n",
      "    (vars): ParameterList(\n",
      "        (0): Parameter containing: [torch.float32 of size 1x64 (cuda:0)]\n",
      "        (1): Parameter containing: [torch.float32 of size 64 (cuda:0)]\n",
      "        (2): Parameter containing: [torch.float32 of size 64x64 (cuda:0)]\n",
      "        (3): Parameter containing: [torch.float32 of size 64 (cuda:0)]\n",
      "        (4): Parameter containing: [torch.float32 of size 4x64 (cuda:0)]\n",
      "        (5): Parameter containing: [torch.float32 of size 4 (cuda:0)]\n",
      "    )\n",
      "    (_manifold): PoincareBall manifold\n",
      "  )\n",
      "  (_manifold): PoincareBall manifold\n",
      ")\n",
      "Total trainable tensors: 4548\n",
      "shuffle DB :train, b:1000, 3-way, 3-shot, 5-query, 2-hops\n",
      "shuffle DB :val, b:100, 3-way, 3-shot, 5-query, 2-hops\n",
      "shuffle DB :test, b:100, 3-way, 3-shot, 5-query, 2-hops\n",
      "------ Start Training ------\n",
      "Epoch: 1  Step: 0  training acc: 0.418  time elapsed: 176.5  data loading takes: 8.706  Memory usage: 189.7\n"
     ]
    }
   ],
   "source": [
    "!python train.py --data_dir data/BAShapeDataset/ --task_setup Shared --train_result_report_steps 100 --k_qry 5"
   ]
  },
  {
   "cell_type": "code",
   "execution_count": null,
   "id": "b7d75572-050c-4ceb-936d-c49f62a5f763",
   "metadata": {},
   "outputs": [],
   "source": [
    "!python train.py --data_dir data/BAShapeDataset/ --task_setup Shared --train_result_report_steps 100 --k_qry 10"
   ]
  },
  {
   "cell_type": "code",
   "execution_count": null,
   "id": "11ce13f6-71ef-4982-86c4-6c64093b8383",
   "metadata": {},
   "outputs": [],
   "source": [
    "!python train.py --data_dir data/BAShapeDataset/ --task_setup Shared --train_result_report_steps 100 --k_qry 20"
   ]
  },
  {
   "cell_type": "code",
   "execution_count": null,
   "id": "45a2d006-8470-4e79-8777-c51de21be749",
   "metadata": {},
   "outputs": [],
   "source": [
    "!python train.py --data_dir data/BAShapeDataset/ --task_setup Shared --train_result_report_steps 100 --k_qry 30"
   ]
  },
  {
   "cell_type": "code",
   "execution_count": null,
   "id": "2ff1e0b7-eabf-4df9-94f3-1661bf1b5128",
   "metadata": {},
   "outputs": [],
   "source": []
  }
 ],
 "metadata": {
  "kernelspec": {
   "display_name": "Python 3 (ipykernel)",
   "language": "python",
   "name": "python3"
  },
  "language_info": {
   "codemirror_mode": {
    "name": "ipython",
    "version": 3
   },
   "file_extension": ".py",
   "mimetype": "text/x-python",
   "name": "python",
   "nbconvert_exporter": "python",
   "pygments_lexer": "ipython3",
   "version": "3.11.6"
  }
 },
 "nbformat": 4,
 "nbformat_minor": 5
}
