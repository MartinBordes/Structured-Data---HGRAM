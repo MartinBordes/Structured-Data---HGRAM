{
 "cells": [
  {
   "cell_type": "code",
   "execution_count": 1,
   "id": "e10e761c-fced-4d0c-b50d-c51137da3b52",
   "metadata": {},
   "outputs": [],
   "source": [
    "from dgl.data import *\n",
    "import numpy as np\n",
    "import torch\n",
    "import pandas as pd\n",
    "import pickle\n",
    "import argparse\n",
    "from pathlib import Path\n",
    "import warnings\n",
    "import re"
   ]
  },
  {
   "cell_type": "markdown",
   "id": "04fa334c",
   "metadata": {},
   "source": [
    "## Importing the data"
   ]
  },
  {
   "cell_type": "code",
   "execution_count": 4,
   "id": "dcb059de-e187-41be-8388-67dfb065a191",
   "metadata": {},
   "outputs": [
    {
     "name": "stdout",
     "output_type": "stream",
     "text": [
      "Done loading data from cached files.\n"
     ]
    },
    {
     "name": "stderr",
     "output_type": "stream",
     "text": [
      "/tmp/ipykernel_220031/96704680.py:32: UserWarning: This pattern is interpreted as a regular expression, and has match groups. To actually get the groups, use str.extract.\n",
      "  train = df[df['name'].str.contains(re.compile(train_pattern))]\n",
      "/tmp/ipykernel_220031/96704680.py:38: UserWarning: This pattern is interpreted as a regular expression, and has match groups. To actually get the groups, use str.extract.\n",
      "  val = df[df['name'].str.contains(re.compile(val_pattern))]\n",
      "/tmp/ipykernel_220031/96704680.py:44: UserWarning: This pattern is interpreted as a regular expression, and has match groups. To actually get the groups, use str.extract.\n",
      "  test = df[df['name'].str.contains(re.compile(test_pattern))]\n"
     ]
    }
   ],
   "source": [
    "# We choose the desired dataset to import\n",
    "arg = TreeGridDataset\n",
    "dataset_name = arg.__name__\n",
    "dataset = arg()\n",
    "\n",
    "if len(dataset) == 1:\n",
    "    dgl_Gs = [dataset[0]]\n",
    "else:\n",
    "    dgl_Gs = list(dataset)\n",
    "feature_map = [np.array(graph.ndata['feat']) for graph in dgl_Gs]\n",
    "label_map = [np.array(graph.ndata['label']) for graph in dgl_Gs]\n",
    "\n",
    "info = {}\n",
    "\n",
    "for idx, G in enumerate(dgl_Gs):    \n",
    "    # G is a dgl graph\n",
    "    for j in range(len(label_map[idx])):\n",
    "        info[str(idx) + '_' + str(j)] = label_map[idx][j]\n",
    "            \n",
    "df = pd.DataFrame.from_dict(info, orient='index').reset_index().rename(columns={\"index\": \"name\", 0: \"label\"})\n",
    "\n",
    "train_df_list = []\n",
    "val_df_list = []\n",
    "test_df_list = []\n",
    "for idx, G in enumerate(dgl_Gs):\n",
    "    num_labels = list(range(len(G.ndata['label'])))\n",
    "    train_ind = np.random.choice(num_labels,int(len(num_labels)*0.7),replace=False) ## We randomly pick 70% of the data as part of the training set\n",
    "    train_pattern = str(idx)+'_(' + '|'.join(map(str, train_ind)) + ')$'\n",
    "    train = df[df['name'].str.contains(re.compile(train_pattern))]\n",
    "    train_df_list.append(train)\n",
    "    num_labels = [x for x in num_labels if x not in train_ind]\n",
    "    \n",
    "    val_ind = np.random.choice(num_labels,int(len(num_labels)*0.33),replace=False) ## We randomly pick 10% of the data as part of the validation set\n",
    "    val_pattern = str(idx)+'_(' + '|'.join(map(str, val_ind)) + ')$'\n",
    "    val = df[df['name'].str.contains(re.compile(val_pattern))]\n",
    "    val_df_list.append(val)\n",
    "    num_labels = [x for x in num_labels if x not in val_ind]\n",
    "    \n",
    "    test_ind = num_labels\n",
    "    test_pattern = str(idx)+'_(' + '|'.join(map(str, test_ind)) + ')$'  ## We randomly pick 20% of the data as part of the test set\n",
    "    test = df[df['name'].str.contains(re.compile(test_pattern))]\n",
    "    test_df_list.append(test)\n",
    "    \n",
    "train_df = pd.concat(train_df_list)\n",
    "val_df = pd.concat(val_df_list)\n",
    "test_df = pd.concat(test_df_list)\n",
    "\n",
    "directory = Path('data/' + str(dataset_name))\n",
    "if not directory.exists():\n",
    "    directory.mkdir(parents=True, exist_ok=True)\n",
    "\n",
    "train_df.reset_index(drop = True).to_csv('data/' + str(dataset_name) + '/train.csv')\n",
    "val_df.reset_index(drop = True).to_csv('data/' + str(dataset_name) + '/val.csv')\n",
    "test_df.reset_index(drop = True).to_csv('data/' + str(dataset_name) + '/test.csv')\n",
    "\n",
    "with open('data/' + str(dataset_name) + '/graph_dgl.pkl', 'wb') as f:\n",
    "    pickle.dump(dgl_Gs, f)\n",
    "    \n",
    "with open('data/' + str(dataset_name) + '/label.pkl', 'wb') as f:\n",
    "    pickle.dump(info, f)\n",
    "    \n",
    "np.save('data/' + str(dataset_name) + '/features.npy', np.array(feature_map))"
   ]
  },
  {
   "cell_type": "markdown",
   "id": "94a298d7",
   "metadata": {},
   "source": [
    "## Running the HGRAM"
   ]
  },
  {
   "cell_type": "code",
   "execution_count": 57,
   "id": "e627800c-d777-4362-842e-4dc9bfa3bdbc",
   "metadata": {},
   "outputs": [
    {
     "name": "stdout",
     "output_type": "stream",
     "text": [
      "Namespace(epoch=3, n_way=3, k_spt=3, k_qry=5, task_num=8, meta_lr=0.001, update_lr=0.001, update_step=5, update_step_test=10, input_dim=1, hidden_dim=64, attention_size=32, data_dir='data/TreeGridDataset/', no_finetune=True, task_setup='Shared', method='G-Meta', task_n=1, task_mode='False', val_result_report_steps=100, train_result_report_steps=100, num_workers=0, batchsz=1000, link_pred_mode='False', h=2, sample_nodes=1000)\n",
      "There are 2 classes \n",
      "Meta(\n",
      "  (net): Classifier(\n",
      "    (vars): ParameterList(\n",
      "        (0): Parameter containing: [torch.float32 of size 1x64 (cuda:0)]\n",
      "        (1): Parameter containing: [torch.float32 of size 64 (cuda:0)]\n",
      "        (2): Parameter containing: [torch.float32 of size 64x64 (cuda:0)]\n",
      "        (3): Parameter containing: [torch.float32 of size 64 (cuda:0)]\n",
      "        (4): Parameter containing: [torch.float32 of size 2x64 (cuda:0)]\n",
      "        (5): Parameter containing: [torch.float32 of size 2 (cuda:0)]\n",
      "    )\n",
      "    (_manifold): PoincareBall manifold\n",
      "  )\n",
      "  (_manifold): PoincareBall manifold\n",
      ")\n",
      "Total trainable tensors: 4418\n",
      "shuffle DB :train, b:1000, 3-way, 3-shot, 5-query, 2-hops\n",
      "shuffle DB :val, b:100, 3-way, 3-shot, 5-query, 2-hops\n",
      "shuffle DB :test, b:100, 3-way, 3-shot, 5-query, 2-hops\n",
      "------ Start Training ------\n",
      "Epoch: 1  Step: 0  training acc: 0.475  time elapsed: 102.2  data loading takes: 3.591  Memory usage: 188.0\n",
      "Epoch: 1  Step: 100  training acc: 0.562  time elapsed: 13.60  data loading takes: 0.042  Memory usage: 188.6\n",
      "Epoch: 1  Val acc: 0.564\n",
      "Epoch: 2  Step: 0  training acc: 0.512  time elapsed: 13.53  data loading takes: 0.085  Memory usage: 188.7\n",
      "Epoch: 2  Step: 100  training acc: 0.512  time elapsed: 13.61  data loading takes: 0.069  Memory usage: 188.6\n",
      "Epoch: 2  Val acc: 0.574\n",
      "Epoch: 3  Step: 0  training acc: 0.562  time elapsed: 13.68  data loading takes: 0.106  Memory usage: 188.8\n",
      "Epoch: 3  Step: 100  training acc: 0.512  time elapsed: 13.72  data loading takes: 0.023  Memory usage: 188.9\n",
      "Epoch: 3  Val acc: 0.566\n",
      "Test acc: 0.58\n",
      "Early Stopped Test acc: 0.547\n",
      "Total Time: 6639.\n",
      "Max Memory: 189.1\n"
     ]
    }
   ],
   "source": [
    "!python train.py --data_dir data/TreeGridDataset/ --task_setup Shared --epoch 3 --train_result_report_steps 100 --k_qry 5"
   ]
  },
  {
   "cell_type": "code",
   "execution_count": 5,
   "id": "9aaf5c87-c27b-4f1b-923e-4c5a1f5ea4a7",
   "metadata": {},
   "outputs": [
    {
     "name": "stdout",
     "output_type": "stream",
     "text": [
      "Namespace(epoch=3, n_way=3, k_spt=3, k_qry=10, task_num=8, meta_lr=0.001, update_lr=0.001, update_step=5, update_step_test=10, input_dim=1, hidden_dim=64, attention_size=32, data_dir='data/TreeGridDataset/', no_finetune=True, task_setup='Shared', method='G-Meta', task_n=1, task_mode='False', val_result_report_steps=100, train_result_report_steps=100, num_workers=0, batchsz=1000, link_pred_mode='False', h=2, sample_nodes=1000)\n",
      "There are 2 classes \n",
      "Meta(\n",
      "  (net): Classifier(\n",
      "    (vars): ParameterList(\n",
      "        (0): Parameter containing: [torch.float32 of size 1x64 (cuda:0)]\n",
      "        (1): Parameter containing: [torch.float32 of size 64 (cuda:0)]\n",
      "        (2): Parameter containing: [torch.float32 of size 64x64 (cuda:0)]\n",
      "        (3): Parameter containing: [torch.float32 of size 64 (cuda:0)]\n",
      "        (4): Parameter containing: [torch.float32 of size 2x64 (cuda:0)]\n",
      "        (5): Parameter containing: [torch.float32 of size 2 (cuda:0)]\n",
      "    )\n",
      "    (_manifold): PoincareBall manifold\n",
      "  )\n",
      "  (_manifold): PoincareBall manifold\n",
      ")\n",
      "Total trainable tensors: 4418\n",
      "shuffle DB :train, b:1000, 3-way, 3-shot, 10-query, 2-hops\n",
      "shuffle DB :val, b:100, 3-way, 3-shot, 10-query, 2-hops\n",
      "shuffle DB :test, b:100, 3-way, 3-shot, 10-query, 2-hops\n",
      "------ Start Training ------\n",
      "Epoch: 1  Step: 0  training acc: 0.606  time elapsed: 34.12  data loading takes: 0.481  Memory usage: 228.4\n",
      "Epoch: 1  Step: 100  training acc: 0.581  time elapsed: 3.000  data loading takes: 0.094  Memory usage: 228.1\n",
      "Epoch: 1  Val acc: 0.642\n",
      "Epoch: 2  Step: 0  training acc: 0.512  time elapsed: 3.136  data loading takes: 0.029  Memory usage: 228.1\n",
      "Epoch: 2  Step: 100  training acc: 0.575  time elapsed: 2.950  data loading takes: 0.032  Memory usage: 228.2\n",
      "Epoch: 2  Val acc: 0.639\n",
      "Epoch: 3  Step: 0  training acc: 0.568  time elapsed: 3.044  data loading takes: 0.032  Memory usage: 228.5\n",
      "Epoch: 3  Step: 100  training acc: 0.556  time elapsed: 3.511  data loading takes: 0.033  Memory usage: 233.1\n",
      "Epoch: 3  Val acc: 0.642\n",
      "Test acc: 0.55\n",
      "Early Stopped Test acc: 0.53\n",
      "Total Time: 1602.\n",
      "Max Memory: 233.2\n"
     ]
    }
   ],
   "source": [
    "!python train.py --data_dir data/TreeGridDataset/ --task_setup Shared --epoch 3 --train_result_report_steps 100 --k_qry 10"
   ]
  },
  {
   "cell_type": "code",
   "execution_count": 6,
   "id": "b47f10e0-9f4e-4f98-992d-5c776873f772",
   "metadata": {},
   "outputs": [
    {
     "name": "stdout",
     "output_type": "stream",
     "text": [
      "Namespace(epoch=3, n_way=3, k_spt=3, k_qry=20, task_num=8, meta_lr=0.001, update_lr=0.001, update_step=5, update_step_test=10, input_dim=1, hidden_dim=64, attention_size=32, data_dir='data/TreeGridDataset/', no_finetune=True, task_setup='Shared', method='G-Meta', task_n=1, task_mode='False', val_result_report_steps=100, train_result_report_steps=100, num_workers=0, batchsz=1000, link_pred_mode='False', h=2, sample_nodes=1000)\n",
      "There are 2 classes \n",
      "Meta(\n",
      "  (net): Classifier(\n",
      "    (vars): ParameterList(\n",
      "        (0): Parameter containing: [torch.float32 of size 1x64 (cuda:0)]\n",
      "        (1): Parameter containing: [torch.float32 of size 64 (cuda:0)]\n",
      "        (2): Parameter containing: [torch.float32 of size 64x64 (cuda:0)]\n",
      "        (3): Parameter containing: [torch.float32 of size 64 (cuda:0)]\n",
      "        (4): Parameter containing: [torch.float32 of size 2x64 (cuda:0)]\n",
      "        (5): Parameter containing: [torch.float32 of size 2 (cuda:0)]\n",
      "    )\n",
      "    (_manifold): PoincareBall manifold\n",
      "  )\n",
      "  (_manifold): PoincareBall manifold\n",
      ")\n",
      "Total trainable tensors: 4418\n",
      "shuffle DB :train, b:1000, 3-way, 3-shot, 20-query, 2-hops\n",
      "shuffle DB :val, b:100, 3-way, 3-shot, 20-query, 2-hops\n",
      "shuffle DB :test, b:100, 3-way, 3-shot, 20-query, 2-hops\n",
      "------ Start Training ------\n",
      "Epoch: 1  Step: 0  training acc: 0.562  time elapsed: 32.44  data loading takes: 0.850  Memory usage: 229.3\n",
      "Epoch: 1  Step: 100  training acc: 0.562  time elapsed: 3.435  data loading takes: 0.103  Memory usage: 229.1\n",
      "Epoch: 1  Val acc: 0.599\n",
      "Epoch: 2  Step: 0  training acc: 0.553  time elapsed: 3.289  data loading takes: 0.150  Memory usage: 229.3\n",
      "Epoch: 2  Step: 100  training acc: 0.625  time elapsed: 3.341  data loading takes: 0.068  Memory usage: 229.0\n",
      "Epoch: 2  Val acc: 0.598\n",
      "Epoch: 3  Step: 0  training acc: 0.540  time elapsed: 3.288  data loading takes: 0.054  Memory usage: 228.8\n",
      "Epoch: 3  Step: 100  training acc: 0.559  time elapsed: 3.336  data loading takes: 0.083  Memory usage: 228.6\n",
      "Epoch: 3  Val acc: 0.602\n",
      "Test acc: 0.532\n",
      "Early Stopped Test acc: 0.511\n",
      "Total Time: 1699.\n",
      "Max Memory: 236.5\n"
     ]
    }
   ],
   "source": [
    "!python train.py --data_dir data/TreeGridDataset/ --task_setup Shared --epoch 3 --train_result_report_steps 100 --k_qry 20"
   ]
  },
  {
   "cell_type": "code",
   "execution_count": 7,
   "id": "e1162242-6ec2-418b-99db-f7084424808a",
   "metadata": {},
   "outputs": [
    {
     "name": "stdout",
     "output_type": "stream",
     "text": [
      "Namespace(epoch=3, n_way=3, k_spt=3, k_qry=30, task_num=8, meta_lr=0.001, update_lr=0.001, update_step=5, update_step_test=10, input_dim=1, hidden_dim=64, attention_size=32, data_dir='data/TreeGridDataset/', no_finetune=True, task_setup='Shared', method='G-Meta', task_n=1, task_mode='False', val_result_report_steps=100, train_result_report_steps=100, num_workers=0, batchsz=1000, link_pred_mode='False', h=2, sample_nodes=1000)\n",
      "There are 2 classes \n",
      "Meta(\n",
      "  (net): Classifier(\n",
      "    (vars): ParameterList(\n",
      "        (0): Parameter containing: [torch.float32 of size 1x64 (cuda:0)]\n",
      "        (1): Parameter containing: [torch.float32 of size 64 (cuda:0)]\n",
      "        (2): Parameter containing: [torch.float32 of size 64x64 (cuda:0)]\n",
      "        (3): Parameter containing: [torch.float32 of size 64 (cuda:0)]\n",
      "        (4): Parameter containing: [torch.float32 of size 2x64 (cuda:0)]\n",
      "        (5): Parameter containing: [torch.float32 of size 2 (cuda:0)]\n",
      "    )\n",
      "    (_manifold): PoincareBall manifold\n",
      "  )\n",
      "  (_manifold): PoincareBall manifold\n",
      ")\n",
      "Total trainable tensors: 4418\n",
      "shuffle DB :train, b:1000, 3-way, 3-shot, 30-query, 2-hops\n",
      "shuffle DB :val, b:100, 3-way, 3-shot, 30-query, 2-hops\n",
      "shuffle DB :test, b:100, 3-way, 3-shot, 30-query, 2-hops\n",
      "------ Start Training ------\n",
      "Epoch: 1  Step: 0  training acc: 0.639  time elapsed: 30.88  data loading takes: 0.997  Memory usage: 228.5\n",
      "Epoch: 1  Step: 100  training acc: 0.652  time elapsed: 3.228  data loading takes: 0.132  Memory usage: 228.6\n",
      "Epoch: 1  Val acc: 0.647\n",
      "Epoch: 2  Step: 0  training acc: 0.55  time elapsed: 3.254  data loading takes: 0.104  Memory usage: 228.7\n",
      "Epoch: 2  Step: 100  training acc: 0.631  time elapsed: 3.200  data loading takes: 0.120  Memory usage: 229.2\n",
      "Epoch: 2  Val acc: 0.649\n",
      "Epoch: 3  Step: 0  training acc: 0.504  time elapsed: 3.265  data loading takes: 0.109  Memory usage: 229.2\n",
      "Epoch: 3  Step: 100  training acc: 0.514  time elapsed: 3.241  data loading takes: 0.145  Memory usage: 229.3\n",
      "Epoch: 3  Val acc: 0.651\n",
      "Test acc: 0.548\n",
      "Early Stopped Test acc: 0.532\n",
      "Total Time: 1655.\n",
      "Max Memory: 229.6\n"
     ]
    }
   ],
   "source": [
    "!python train.py --data_dir data/TreeGridDataset/ --task_setup Shared --epoch 3 --train_result_report_steps 100 --k_qry 30"
   ]
  },
  {
   "cell_type": "code",
   "execution_count": 8,
   "id": "f5520819-9400-422f-b084-15b23965ebdb",
   "metadata": {},
   "outputs": [
    {
     "name": "stdout",
     "output_type": "stream",
     "text": [
      "Namespace(epoch=3, n_way=3, k_spt=3, k_qry=24, task_num=8, meta_lr=0.001, update_lr=0.001, update_step=5, update_step_test=10, input_dim=1, hidden_dim=64, attention_size=32, data_dir='data/TreeGridDataset/', no_finetune=True, task_setup='Shared', method='G-Meta', task_n=1, task_mode='False', val_result_report_steps=100, train_result_report_steps=100, num_workers=0, batchsz=100, link_pred_mode='False', h=2, sample_nodes=1000)\n",
      "There are 2 classes \n",
      "Meta(\n",
      "  (net): Classifier(\n",
      "    (vars): ParameterList(\n",
      "        (0): Parameter containing: [torch.float32 of size 1x64 (cuda:0)]\n",
      "        (1): Parameter containing: [torch.float32 of size 64 (cuda:0)]\n",
      "        (2): Parameter containing: [torch.float32 of size 64x64 (cuda:0)]\n",
      "        (3): Parameter containing: [torch.float32 of size 64 (cuda:0)]\n",
      "        (4): Parameter containing: [torch.float32 of size 2x64 (cuda:0)]\n",
      "        (5): Parameter containing: [torch.float32 of size 2 (cuda:0)]\n",
      "    )\n",
      "    (_manifold): PoincareBall manifold\n",
      "  )\n",
      "  (_manifold): PoincareBall manifold\n",
      ")\n",
      "Total trainable tensors: 4418\n",
      "shuffle DB :train, b:100, 3-way, 3-shot, 24-query, 2-hops\n",
      "shuffle DB :val, b:100, 3-way, 3-shot, 24-query, 2-hops\n",
      "shuffle DB :test, b:100, 3-way, 3-shot, 24-query, 2-hops\n",
      "------ Start Training ------\n",
      "Epoch: 1  Step: 0  training acc: 0.567  time elapsed: 35.15  data loading takes: 0.831  Memory usage: 230.2\n",
      "Epoch: 1  Val acc: 0.619\n",
      "Epoch: 2  Step: 0  training acc: 0.513  time elapsed: 3.107  data loading takes: 0.112  Memory usage: 230.8\n",
      "Epoch: 2  Val acc: 0.628\n",
      "Epoch: 3  Step: 0  training acc: 0.554  time elapsed: 3.136  data loading takes: 0.058  Memory usage: 230.6\n",
      "Epoch: 3  Val acc: 0.627\n",
      "Test acc: 0.552\n",
      "Early Stopped Test acc: 0.532\n",
      "Total Time: 526.5\n",
      "Max Memory: 230.9\n"
     ]
    }
   ],
   "source": [
    "!python train.py --data_dir data/TreeGridDataset/ --task_setup Shared --epoch 3 --train_result_report_steps 100 --batchsz 100"
   ]
  },
  {
   "cell_type": "code",
   "execution_count": 9,
   "id": "93eb9db3-5bd9-4669-a78f-39819440bb46",
   "metadata": {},
   "outputs": [
    {
     "name": "stdout",
     "output_type": "stream",
     "text": [
      "Namespace(epoch=3, n_way=3, k_spt=3, k_qry=24, task_num=8, meta_lr=0.001, update_lr=0.001, update_step=5, update_step_test=10, input_dim=1, hidden_dim=64, attention_size=32, data_dir='data/TreeGridDataset/', no_finetune=True, task_setup='Shared', method='G-Meta', task_n=1, task_mode='False', val_result_report_steps=100, train_result_report_steps=100, num_workers=0, batchsz=500, link_pred_mode='False', h=2, sample_nodes=1000)\n",
      "There are 2 classes \n",
      "Meta(\n",
      "  (net): Classifier(\n",
      "    (vars): ParameterList(\n",
      "        (0): Parameter containing: [torch.float32 of size 1x64 (cuda:0)]\n",
      "        (1): Parameter containing: [torch.float32 of size 64 (cuda:0)]\n",
      "        (2): Parameter containing: [torch.float32 of size 64x64 (cuda:0)]\n",
      "        (3): Parameter containing: [torch.float32 of size 64 (cuda:0)]\n",
      "        (4): Parameter containing: [torch.float32 of size 2x64 (cuda:0)]\n",
      "        (5): Parameter containing: [torch.float32 of size 2 (cuda:0)]\n",
      "    )\n",
      "    (_manifold): PoincareBall manifold\n",
      "  )\n",
      "  (_manifold): PoincareBall manifold\n",
      ")\n",
      "Total trainable tensors: 4418\n",
      "shuffle DB :train, b:500, 3-way, 3-shot, 24-query, 2-hops\n",
      "shuffle DB :val, b:100, 3-way, 3-shot, 24-query, 2-hops\n",
      "shuffle DB :test, b:100, 3-way, 3-shot, 24-query, 2-hops\n",
      "------ Start Training ------\n",
      "Epoch: 1  Step: 0  training acc: 0.515  time elapsed: 31.43  data loading takes: 1.072  Memory usage: 230.0\n",
      "Epoch: 1  Val acc: 0.641\n",
      "Epoch: 2  Step: 0  training acc: 0.575  time elapsed: 3.260  data loading takes: 0.064  Memory usage: 229.5\n",
      "Epoch: 2  Val acc: 0.641\n",
      "Epoch: 3  Step: 0  training acc: 0.575  time elapsed: 3.259  data loading takes: 0.153  Memory usage: 229.3\n",
      "Epoch: 3  Val acc: 0.644\n",
      "Test acc: 0.536\n",
      "Early Stopped Test acc: 0.512\n",
      "Total Time: 1061.\n",
      "Max Memory: 230.4\n"
     ]
    }
   ],
   "source": [
    "!python train.py --data_dir data/TreeGridDataset/ --task_setup Shared --epoch 3 --train_result_report_steps 100 --batchsz 500"
   ]
  },
  {
   "cell_type": "code",
   "execution_count": 15,
   "id": "93defc87-3f23-4957-8f6a-5d9150c1a0b4",
   "metadata": {},
   "outputs": [
    {
     "name": "stdout",
     "output_type": "stream",
     "text": [
      "Namespace(epoch=3, n_way=3, k_spt=3, k_qry=24, task_num=8, meta_lr=0.001, update_lr=0.001, update_step=5, update_step_test=10, input_dim=1, hidden_dim=64, attention_size=32, data_dir='data/TreeGridDataset/', no_finetune=True, task_setup='Shared', method='G-Meta', task_n=1, task_mode='False', val_result_report_steps=100, train_result_report_steps=100, num_workers=0, batchsz=1000, link_pred_mode='False', h=2, sample_nodes=1000)\n",
      "There are 2 classes \n",
      "Meta(\n",
      "  (net): Classifier(\n",
      "    (vars): ParameterList(\n",
      "        (0): Parameter containing: [torch.float32 of size 1x64 (cuda:0)]\n",
      "        (1): Parameter containing: [torch.float32 of size 64 (cuda:0)]\n",
      "        (2): Parameter containing: [torch.float32 of size 64x64 (cuda:0)]\n",
      "        (3): Parameter containing: [torch.float32 of size 64 (cuda:0)]\n",
      "        (4): Parameter containing: [torch.float32 of size 2x64 (cuda:0)]\n",
      "        (5): Parameter containing: [torch.float32 of size 2 (cuda:0)]\n",
      "    )\n",
      "    (_manifold): PoincareBall manifold\n",
      "  )\n",
      "  (_manifold): PoincareBall manifold\n",
      ")\n",
      "Total trainable tensors: 4418\n",
      "shuffle DB :train, b:1000, 3-way, 3-shot, 24-query, 2-hops\n",
      "shuffle DB :val, b:100, 3-way, 3-shot, 24-query, 2-hops\n",
      "shuffle DB :test, b:100, 3-way, 3-shot, 24-query, 2-hops\n",
      "------ Start Training ------\n",
      "Epoch: 1  Step: 0  training acc: 0.533  time elapsed: 37.79  data loading takes: 1.378  Memory usage: 231.2\n",
      "Epoch: 1  Step: 100  training acc: 0.596  time elapsed: 3.694  data loading takes: 0.126  Memory usage: 231.0\n",
      "Epoch: 1  Val acc: 0.637\n",
      "Epoch: 2  Step: 0  training acc: 0.567  time elapsed: 3.796  data loading takes: 0.122  Memory usage: 231.2\n",
      "Epoch: 2  Step: 100  training acc: 0.531  time elapsed: 3.726  data loading takes: 0.101  Memory usage: 230.4\n",
      "Epoch: 2  Val acc: 0.642\n",
      "Epoch: 3  Step: 0  training acc: 0.471  time elapsed: 3.751  data loading takes: 0.079  Memory usage: 236.2\n",
      "Epoch: 3  Step: 100  training acc: 0.697  time elapsed: 3.597  data loading takes: 0.116  Memory usage: 234.0\n",
      "Epoch: 3  Val acc: 0.649\n",
      "Test acc: 0.545\n",
      "Early Stopped Test acc: 0.530\n",
      "Total Time: 1846.\n",
      "Max Memory: 237.0\n"
     ]
    }
   ],
   "source": [
    "!python train.py --data_dir data/TreeGridDataset/ --task_setup Shared --epoch 3 --train_result_report_steps 100 --batchsz 1000"
   ]
  },
  {
   "cell_type": "code",
   "execution_count": 16,
   "id": "7439f6b7-e384-4074-9ede-ffa402e5526b",
   "metadata": {},
   "outputs": [
    {
     "name": "stdout",
     "output_type": "stream",
     "text": [
      "Namespace(epoch=3, n_way=3, k_spt=3, k_qry=24, task_num=8, meta_lr=0.001, update_lr=0.001, update_step=5, update_step_test=10, input_dim=1, hidden_dim=64, attention_size=32, data_dir='data/TreeGridDataset/', no_finetune=True, task_setup='Shared', method='G-Meta', task_n=1, task_mode='False', val_result_report_steps=100, train_result_report_steps=100, num_workers=0, batchsz=2000, link_pred_mode='False', h=2, sample_nodes=1000)\n",
      "There are 2 classes \n",
      "Meta(\n",
      "  (net): Classifier(\n",
      "    (vars): ParameterList(\n",
      "        (0): Parameter containing: [torch.float32 of size 1x64 (cuda:0)]\n",
      "        (1): Parameter containing: [torch.float32 of size 64 (cuda:0)]\n",
      "        (2): Parameter containing: [torch.float32 of size 64x64 (cuda:0)]\n",
      "        (3): Parameter containing: [torch.float32 of size 64 (cuda:0)]\n",
      "        (4): Parameter containing: [torch.float32 of size 2x64 (cuda:0)]\n",
      "        (5): Parameter containing: [torch.float32 of size 2 (cuda:0)]\n",
      "    )\n",
      "    (_manifold): PoincareBall manifold\n",
      "  )\n",
      "  (_manifold): PoincareBall manifold\n",
      ")\n",
      "Total trainable tensors: 4418\n",
      "shuffle DB :train, b:2000, 3-way, 3-shot, 24-query, 2-hops\n",
      "shuffle DB :val, b:100, 3-way, 3-shot, 24-query, 2-hops\n",
      "shuffle DB :test, b:100, 3-way, 3-shot, 24-query, 2-hops\n",
      "------ Start Training ------\n",
      "Epoch: 1  Step: 0  training acc: 0.591  time elapsed: 36.27  data loading takes: 1.275  Memory usage: 233.9\n",
      "Epoch: 1  Step: 100  training acc: 0.554  time elapsed: 3.464  data loading takes: 0.070  Memory usage: 231.9\n",
      "Epoch: 1  Step: 200  training acc: 0.554  time elapsed: 3.551  data loading takes: 0.114  Memory usage: 236.5\n",
      "Epoch: 1  Val acc: 0.633\n",
      "Epoch: 2  Step: 0  training acc: 0.567  time elapsed: 3.547  data loading takes: 0.071  Memory usage: 234.8\n",
      "Epoch: 2  Step: 100  training acc: 0.578  time elapsed: 3.703  data loading takes: 0.091  Memory usage: 234.7\n",
      "Epoch: 2  Step: 200  training acc: 0.604  time elapsed: 3.449  data loading takes: 0.158  Memory usage: 230.3\n",
      "Epoch: 2  Val acc: 0.634\n",
      "Epoch: 3  Step: 0  training acc: 0.494  time elapsed: 3.499  data loading takes: 0.068  Memory usage: 230.0\n",
      "Epoch: 3  Step: 100  training acc: 0.531  time elapsed: 3.546  data loading takes: 0.072  Memory usage: 231.4\n",
      "Epoch: 3  Step: 200  training acc: 0.570  time elapsed: 3.610  data loading takes: 0.087  Memory usage: 230.7\n",
      "Epoch: 3  Val acc: 0.631\n",
      "Test acc: 0.544\n",
      "Early Stopped Test acc: 0.526\n",
      "Total Time: 3211.\n",
      "Max Memory: 236.8\n"
     ]
    }
   ],
   "source": [
    "!python train.py --data_dir data/TreeGridDataset/ --task_setup Shared --epoch 3 --train_result_report_steps 100 --batchsz 2000"
   ]
  },
  {
   "cell_type": "code",
   "execution_count": 17,
   "id": "f57dbc29-961e-40c2-9cde-dce85e1061cb",
   "metadata": {},
   "outputs": [
    {
     "name": "stdout",
     "output_type": "stream",
     "text": [
      "Namespace(epoch=3, n_way=3, k_spt=3, k_qry=24, task_num=8, meta_lr=0.001, update_lr=0.001, update_step=5, update_step_test=10, input_dim=1, hidden_dim=32, attention_size=32, data_dir='data/TreeGridDataset/', no_finetune=True, task_setup='Shared', method='G-Meta', task_n=1, task_mode='False', val_result_report_steps=100, train_result_report_steps=100, num_workers=0, batchsz=1000, link_pred_mode='False', h=2, sample_nodes=1000)\n",
      "There are 2 classes \n",
      "Meta(\n",
      "  (net): Classifier(\n",
      "    (vars): ParameterList(\n",
      "        (0): Parameter containing: [torch.float32 of size 1x32 (cuda:0)]\n",
      "        (1): Parameter containing: [torch.float32 of size 32 (cuda:0)]\n",
      "        (2): Parameter containing: [torch.float32 of size 32x32 (cuda:0)]\n",
      "        (3): Parameter containing: [torch.float32 of size 32 (cuda:0)]\n",
      "        (4): Parameter containing: [torch.float32 of size 2x32 (cuda:0)]\n",
      "        (5): Parameter containing: [torch.float32 of size 2 (cuda:0)]\n",
      "    )\n",
      "    (_manifold): PoincareBall manifold\n",
      "  )\n",
      "  (_manifold): PoincareBall manifold\n",
      ")\n",
      "Total trainable tensors: 1186\n",
      "shuffle DB :train, b:1000, 3-way, 3-shot, 24-query, 2-hops\n",
      "shuffle DB :val, b:100, 3-way, 3-shot, 24-query, 2-hops\n",
      "shuffle DB :test, b:100, 3-way, 3-shot, 24-query, 2-hops\n",
      "------ Start Training ------\n",
      "Epoch: 1  Step: 0  training acc: 0.539  time elapsed: 36.64  data loading takes: 1.080  Memory usage: 229.9\n",
      "Epoch: 1  Step: 100  training acc: 0.635  time elapsed: 3.471  data loading takes: 0.076  Memory usage: 228.4\n",
      "Epoch: 1  Val acc: 0.644\n",
      "Epoch: 2  Step: 0  training acc: 0.625  time elapsed: 3.497  data loading takes: 0.053  Memory usage: 228.3\n",
      "Epoch: 2  Step: 100  training acc: 0.544  time elapsed: 3.391  data loading takes: 0.103  Memory usage: 228.9\n",
      "Epoch: 2  Val acc: 0.654\n",
      "Epoch: 3  Step: 0  training acc: 0.559  time elapsed: 3.577  data loading takes: 0.072  Memory usage: 228.9\n",
      "Epoch: 3  Step: 100  training acc: 0.609  time elapsed: 3.491  data loading takes: 0.061  Memory usage: 229.1\n",
      "Epoch: 3  Val acc: 0.648\n",
      "Test acc: 0.539\n",
      "Early Stopped Test acc: 0.527\n",
      "Total Time: 1785.\n",
      "Max Memory: 230.9\n"
     ]
    }
   ],
   "source": [
    "!python train.py --data_dir data/TreeGridDataset/ --task_setup Shared --epoch 3 --train_result_report_steps 100 --hidden_dim 32"
   ]
  },
  {
   "cell_type": "code",
   "execution_count": 18,
   "id": "910387a2-3ab2-4f0a-944b-9a827f665e7e",
   "metadata": {},
   "outputs": [
    {
     "name": "stdout",
     "output_type": "stream",
     "text": [
      "Namespace(epoch=3, n_way=3, k_spt=3, k_qry=24, task_num=8, meta_lr=0.001, update_lr=0.001, update_step=5, update_step_test=10, input_dim=1, hidden_dim=64, attention_size=32, data_dir='data/TreeGridDataset/', no_finetune=True, task_setup='Shared', method='G-Meta', task_n=1, task_mode='False', val_result_report_steps=100, train_result_report_steps=100, num_workers=0, batchsz=1000, link_pred_mode='False', h=2, sample_nodes=1000)\n",
      "There are 2 classes \n",
      "Meta(\n",
      "  (net): Classifier(\n",
      "    (vars): ParameterList(\n",
      "        (0): Parameter containing: [torch.float32 of size 1x64 (cuda:0)]\n",
      "        (1): Parameter containing: [torch.float32 of size 64 (cuda:0)]\n",
      "        (2): Parameter containing: [torch.float32 of size 64x64 (cuda:0)]\n",
      "        (3): Parameter containing: [torch.float32 of size 64 (cuda:0)]\n",
      "        (4): Parameter containing: [torch.float32 of size 2x64 (cuda:0)]\n",
      "        (5): Parameter containing: [torch.float32 of size 2 (cuda:0)]\n",
      "    )\n",
      "    (_manifold): PoincareBall manifold\n",
      "  )\n",
      "  (_manifold): PoincareBall manifold\n",
      ")\n",
      "Total trainable tensors: 4418\n",
      "shuffle DB :train, b:1000, 3-way, 3-shot, 24-query, 2-hops\n",
      "shuffle DB :val, b:100, 3-way, 3-shot, 24-query, 2-hops\n",
      "shuffle DB :test, b:100, 3-way, 3-shot, 24-query, 2-hops\n",
      "------ Start Training ------\n",
      "Epoch: 1  Step: 0  training acc: 0.533  time elapsed: 35.06  data loading takes: 1.433  Memory usage: 228.8\n",
      "Epoch: 1  Step: 100  training acc: 0.596  time elapsed: 3.193  data loading takes: 0.071  Memory usage: 227.5\n",
      "Epoch: 1  Val acc: 0.637\n",
      "Epoch: 2  Step: 0  training acc: 0.567  time elapsed: 3.300  data loading takes: 0.067  Memory usage: 227.1\n",
      "Epoch: 2  Step: 100  training acc: 0.531  time elapsed: 3.162  data loading takes: 0.061  Memory usage: 227.3\n",
      "Epoch: 2  Val acc: 0.642\n",
      "Epoch: 3  Step: 0  training acc: 0.471  time elapsed: 3.225  data loading takes: 0.057  Memory usage: 228.0\n",
      "Epoch: 3  Step: 100  training acc: 0.697  time elapsed: 3.275  data loading takes: 0.068  Memory usage: 227.2\n",
      "Epoch: 3  Val acc: 0.647\n",
      "Test acc: 0.545\n",
      "Early Stopped Test acc: 0.529\n",
      "Total Time: 1653.\n",
      "Max Memory: 229.0\n"
     ]
    }
   ],
   "source": [
    "!python train.py --data_dir data/TreeGridDataset/ --task_setup Shared --epoch 3 --train_result_report_steps 100 --hidden_dim 64"
   ]
  },
  {
   "cell_type": "code",
   "execution_count": 19,
   "id": "59b8f81e-606b-4120-991a-effd85d79c66",
   "metadata": {},
   "outputs": [
    {
     "name": "stdout",
     "output_type": "stream",
     "text": [
      "Namespace(epoch=3, n_way=3, k_spt=3, k_qry=24, task_num=8, meta_lr=0.001, update_lr=0.001, update_step=5, update_step_test=10, input_dim=1, hidden_dim=158, attention_size=32, data_dir='data/TreeGridDataset/', no_finetune=True, task_setup='Shared', method='G-Meta', task_n=1, task_mode='False', val_result_report_steps=100, train_result_report_steps=100, num_workers=0, batchsz=1000, link_pred_mode='False', h=2, sample_nodes=1000)\n",
      "There are 2 classes \n",
      "Meta(\n",
      "  (net): Classifier(\n",
      "    (vars): ParameterList(\n",
      "        (0): Parameter containing: [torch.float32 of size 1x158 (cuda:0)]\n",
      "        (1): Parameter containing: [torch.float32 of size 158 (cuda:0)]\n",
      "        (2): Parameter containing: [torch.float32 of size 158x158 (cuda:0)]\n",
      "        (3): Parameter containing: [torch.float32 of size 158 (cuda:0)]\n",
      "        (4): Parameter containing: [torch.float32 of size 2x158 (cuda:0)]\n",
      "        (5): Parameter containing: [torch.float32 of size 2 (cuda:0)]\n",
      "    )\n",
      "    (_manifold): PoincareBall manifold\n",
      "  )\n",
      "  (_manifold): PoincareBall manifold\n",
      ")\n",
      "Total trainable tensors: 25756\n",
      "shuffle DB :train, b:1000, 3-way, 3-shot, 24-query, 2-hops\n",
      "shuffle DB :val, b:100, 3-way, 3-shot, 24-query, 2-hops\n",
      "shuffle DB :test, b:100, 3-way, 3-shot, 24-query, 2-hops\n",
      "------ Start Training ------\n",
      "Epoch: 1  Step: 0  training acc: 0.549  time elapsed: 30.49  data loading takes: 0.744  Memory usage: 227.6\n",
      "Epoch: 1  Step: 100  training acc: 0.609  time elapsed: 3.299  data loading takes: 0.138  Memory usage: 228.1\n",
      "Epoch: 1  Val acc: 0.635\n",
      "Epoch: 2  Step: 0  training acc: 0.549  time elapsed: 3.146  data loading takes: 0.083  Memory usage: 227.9\n",
      "Epoch: 2  Step: 100  training acc: 0.572  time elapsed: 3.392  data loading takes: 0.066  Memory usage: 226.9\n",
      "Epoch: 2  Val acc: 0.636\n",
      "Epoch: 3  Step: 0  training acc: 0.609  time elapsed: 3.404  data loading takes: 0.057  Memory usage: 227.0\n",
      "Epoch: 3  Step: 100  training acc: 0.596  time elapsed: 3.203  data loading takes: 0.100  Memory usage: 227.3\n",
      "Epoch: 3  Val acc: 0.64\n",
      "Test acc: 0.548\n",
      "Early Stopped Test acc: 0.517\n",
      "Total Time: 1619.\n",
      "Max Memory: 228.5\n"
     ]
    }
   ],
   "source": [
    "!python train.py --data_dir data/TreeGridDataset/ --task_setup Shared --epoch 3 --train_result_report_steps 100 --hidden_dim 158"
   ]
  },
  {
   "cell_type": "code",
   "execution_count": 20,
   "id": "b787be40-d626-4c4d-acb5-e53d493b05d2",
   "metadata": {},
   "outputs": [
    {
     "name": "stdout",
     "output_type": "stream",
     "text": [
      "Namespace(epoch=3, n_way=3, k_spt=3, k_qry=24, task_num=8, meta_lr=0.001, update_lr=0.001, update_step=5, update_step_test=10, input_dim=1, hidden_dim=256, attention_size=32, data_dir='data/TreeGridDataset/', no_finetune=True, task_setup='Shared', method='G-Meta', task_n=1, task_mode='False', val_result_report_steps=100, train_result_report_steps=100, num_workers=0, batchsz=1000, link_pred_mode='False', h=2, sample_nodes=1000)\n",
      "There are 2 classes \n",
      "Meta(\n",
      "  (net): Classifier(\n",
      "    (vars): ParameterList(\n",
      "        (0): Parameter containing: [torch.float32 of size 1x256 (cuda:0)]\n",
      "        (1): Parameter containing: [torch.float32 of size 256 (cuda:0)]\n",
      "        (2): Parameter containing: [torch.float32 of size 256x256 (cuda:0)]\n",
      "        (3): Parameter containing: [torch.float32 of size 256 (cuda:0)]\n",
      "        (4): Parameter containing: [torch.float32 of size 2x256 (cuda:0)]\n",
      "        (5): Parameter containing: [torch.float32 of size 2 (cuda:0)]\n",
      "    )\n",
      "    (_manifold): PoincareBall manifold\n",
      "  )\n",
      "  (_manifold): PoincareBall manifold\n",
      ")\n",
      "Total trainable tensors: 66818\n",
      "shuffle DB :train, b:1000, 3-way, 3-shot, 24-query, 2-hops\n",
      "shuffle DB :val, b:100, 3-way, 3-shot, 24-query, 2-hops\n",
      "shuffle DB :test, b:100, 3-way, 3-shot, 24-query, 2-hops\n",
      "------ Start Training ------\n",
      "Epoch: 1  Step: 0  training acc: 0.513  time elapsed: 31.52  data loading takes: 1.090  Memory usage: 227.9\n",
      "Epoch: 1  Step: 100  training acc: 0.583  time elapsed: 3.195  data loading takes: 0.066  Memory usage: 227.4\n",
      "Epoch: 1  Val acc: 0.629\n",
      "Epoch: 2  Step: 0  training acc: 0.552  time elapsed: 3.126  data loading takes: 0.102  Memory usage: 227.4\n",
      "Epoch: 2  Step: 100  training acc: 0.645  time elapsed: 3.483  data loading takes: 0.063  Memory usage: 228.4\n",
      "Epoch: 2  Val acc: 0.630\n",
      "Epoch: 3  Step: 0  training acc: 0.565  time elapsed: 3.577  data loading takes: 0.059  Memory usage: 228.3\n",
      "Epoch: 3  Step: 100  training acc: 0.544  time elapsed: 3.763  data loading takes: 0.138  Memory usage: 228.7\n",
      "Epoch: 3  Val acc: 0.632\n",
      "Test acc: 0.537\n",
      "Early Stopped Test acc: 0.523\n",
      "Total Time: 1719.\n",
      "Max Memory: 229.0\n"
     ]
    }
   ],
   "source": [
    "!python train.py --data_dir data/TreeGridDataset/ --task_setup Shared --epoch 3 --train_result_report_steps 100 --hidden_dim 256"
   ]
  }
 ],
 "metadata": {
  "kernelspec": {
   "display_name": "Python 3 (ipykernel)",
   "language": "python",
   "name": "python3"
  },
  "language_info": {
   "codemirror_mode": {
    "name": "ipython",
    "version": 3
   },
   "file_extension": ".py",
   "mimetype": "text/x-python",
   "name": "python",
   "nbconvert_exporter": "python",
   "pygments_lexer": "ipython3",
   "version": "3.11.6"
  }
 },
 "nbformat": 4,
 "nbformat_minor": 5
}
